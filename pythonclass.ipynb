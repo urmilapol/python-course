{
  "nbformat": 4,
  "nbformat_minor": 0,
  "metadata": {
    "colab": {
      "name": "pythonclass.ipynb",
      "provenance": [],
      "authorship_tag": "ABX9TyO5DqeTuX5oR0LJnxNn/zJi",
      "include_colab_link": true
    },
    "kernelspec": {
      "name": "python3",
      "display_name": "Python 3"
    },
    "language_info": {
      "name": "python"
    }
  },
  "cells": [
    {
      "cell_type": "markdown",
      "metadata": {
        "id": "view-in-github",
        "colab_type": "text"
      },
      "source": [
        "<a href=\"https://colab.research.google.com/github/urmilapol/python-course/blob/master/pythonclass.ipynb\" target=\"_parent\"><img src=\"https://colab.research.google.com/assets/colab-badge.svg\" alt=\"Open In Colab\"/></a>"
      ]
    },
    {
      "cell_type": "markdown",
      "source": [
        "**Defining a Class in Python**\n",
        "\n"
      ],
      "metadata": {
        "id": "IRHNpFS0A6fp"
      }
    },
    {
      "cell_type": "code",
      "source": [
        "class Person:\n",
        "    \"This is a person class\"\n",
        "    age = 10\n",
        "\n",
        "    def greet(self):\n",
        "        print('Hello')\n",
        "\n",
        "\n",
        "# Output: 10\n",
        "print(Person.age)\n",
        "\n",
        "# Output: <function Person.greet>\n",
        "print(Person.greet)\n",
        "\n",
        "# Output: \"This is a person class\"\n",
        "print(Person.__doc__)"
      ],
      "metadata": {
        "colab": {
          "base_uri": "https://localhost:8080/"
        },
        "id": "KejC3nl_53pU",
        "outputId": "1e722965-5ee7-4d03-b93a-c5a0e14070da"
      },
      "execution_count": 13,
      "outputs": [
        {
          "output_type": "stream",
          "name": "stdout",
          "text": [
            "10\n",
            "<function Person.greet at 0x7fbc9bd0b4d0>\n",
            "This is a person class\n"
          ]
        }
      ]
    },
    {
      "cell_type": "code",
      "execution_count": 2,
      "metadata": {
        "colab": {
          "base_uri": "https://localhost:8080/"
        },
        "id": "piDDnE5XsR7O",
        "outputId": "9b85b3cd-fa6b-48d9-c9df-4ae8c6276907"
      },
      "outputs": [
        {
          "output_type": "stream",
          "name": "stdout",
          "text": [
            "<class '__main__.Computer'>\n"
          ]
        }
      ],
      "source": [
        "class Computer:\n",
        "\n",
        "        def config(self):\n",
        "             print(\"i5,16gb,1TB\")\n",
        "\n",
        "a='8'\n",
        "com1 = Computer()\n",
        "print(type(com1))"
      ]
    },
    {
      "cell_type": "markdown",
      "source": [
        "**Creating an Object in Python**\n",
        "It can also be used to create new object instances (instantiation) of that class. The procedure to create an object is similar to a function call.\n",
        "\n"
      ],
      "metadata": {
        "id": "f5GJm9oEBarV"
      }
    },
    {
      "cell_type": "code",
      "source": [
        "class Person:\n",
        "    \"This is a person class\"\n",
        "    age = 10\n",
        "\n",
        "    def greet(self):\n",
        "        print('Hello')\n",
        "\n",
        "\n",
        "# create a new object of Person class\n",
        "harry = Person()\n",
        "\n",
        "# Output: <function Person.greet>\n",
        "print(Person.greet)\n",
        "\n",
        "# Output: <bound method Person.greet of <__main__.Person object>>\n",
        "print(harry.greet)\n",
        "\n",
        "# Calling object's greet() method\n",
        "# Output: Hello\n",
        "harry.greet()"
      ],
      "metadata": {
        "colab": {
          "base_uri": "https://localhost:8080/"
        },
        "id": "v07m6UjoBnkc",
        "outputId": "edb051e0-11db-4cb3-c864-a84274c138d3"
      },
      "execution_count": 18,
      "outputs": [
        {
          "output_type": "stream",
          "name": "stdout",
          "text": [
            "<function Person.greet at 0x7fbc9f825f80>\n",
            "<bound method Person.greet of <__main__.Person object at 0x7fbc9bd7a090>>\n",
            "Hello\n"
          ]
        }
      ]
    },
    {
      "cell_type": "markdown",
      "source": [
        "**What is the use of self in Python?**\n",
        "\n",
        "\n",
        "The **self** is used to represent the instance of the class. With this keyword, you can access the attributes and methods of the class in python. It binds the attributes with the given arguments. The reason why we use self is that Python does not use the ‘@’ syntax to refer to instance attributes."
      ],
      "metadata": {
        "id": "QgDcKfajt7Vp"
      }
    },
    {
      "cell_type": "markdown",
      "source": [
        "**Python Class self Constructor**\n",
        "self is also used to refer to a variable field within the class. Let’s take an example and see how it works:"
      ],
      "metadata": {
        "id": "LPmP8qgY9iJo"
      }
    },
    {
      "cell_type": "code",
      "source": [
        "class Person:\n",
        " \n",
        "# name made in constructor\n",
        "    def __init__(self, John):\n",
        "        self.name = John\n",
        " \n",
        "    def get_person_name(self):\n",
        "        return self.name"
      ],
      "metadata": {
        "id": "z7mieZcq9t3H"
      },
      "execution_count": 16,
      "outputs": []
    },
    {
      "cell_type": "code",
      "source": [
        "class this_is_class:\n",
        "    def show(in_place_of_self):\n",
        "       print(\"It is not a keyword \" \"and you can use a different keyword\")\n",
        " \n",
        "object = this_is_class()\n",
        "object.show()"
      ],
      "metadata": {
        "colab": {
          "base_uri": "https://localhost:8080/"
        },
        "id": "5Vuvpa_6-Ppt",
        "outputId": "3ae06bc7-290e-4e20-c7e6-11056339bcda"
      },
      "execution_count": 17,
      "outputs": [
        {
          "output_type": "stream",
          "name": "stdout",
          "text": [
            "It is not a keyword and you can use a different keyword\n"
          ]
        }
      ]
    },
    {
      "cell_type": "code",
      "source": [
        "class food():\n",
        "#init method or constructor\n",
        "    def __init__(self, fruit, color):\n",
        "        self.fruit = fruit\n",
        "        self.color = color\n",
        "    def show(self):\n",
        "        print(\"fruit is\", self.fruit)\n",
        "        print(\"color is\", self.color )\n",
        "apple = food(\"apple\", \"red\")\n",
        "grapes = food(\"grapes\", \"green\")\n",
        "apple.show()\n",
        "grapes.show()"
      ],
      "metadata": {
        "colab": {
          "base_uri": "https://localhost:8080/"
        },
        "id": "CgDvPFBZuPqr",
        "outputId": "9faf7f61-b5a7-4e54-d805-9f77fe5dbb4d"
      },
      "execution_count": 14,
      "outputs": [
        {
          "output_type": "stream",
          "name": "stdout",
          "text": [
            "fruit is apple\n",
            "color is red\n",
            "fruit is grapes\n",
            "color is green\n"
          ]
        }
      ]
    },
    {
      "cell_type": "code",
      "source": [
        "#!/usr/bin/env python2.7\n",
        "\n",
        "# 06-class-attributes-1.py\n",
        "\n",
        "# Here we define an attribute under the class `YourClass`\n",
        "# as well as an attribute within the function.\n",
        "\n",
        "# The attribute defined in the class is called `class attributes`\n",
        "# and the attribute defined in the function is called `instance attributes`.\n",
        "\n",
        "\n",
        "class YourClass(object):\n",
        "    classy = 10\n",
        "\n",
        "    def set_val(self):\n",
        "        self.insty = 100\n",
        "\n",
        "\n",
        "dd = YourClass()\n",
        "dd.classy  # This will fetch the class attribute 10.\n",
        "dd.set_val()\n",
        "dd.insty  # This will fetch the instance attribute 100.\n",
        "\n",
        "# Once `dd` is instantiated, we can access both the class and instance\n",
        "# attributes, ie.. dd.classy and dd.insty."
      ],
      "metadata": {
        "colab": {
          "base_uri": "https://localhost:8080/",
          "height": 235
        },
        "id": "ax5gHpk652mn",
        "outputId": "81d41059-a9df-4a12-949f-e2176506c63e"
      },
      "execution_count": 20,
      "outputs": [
        {
          "output_type": "error",
          "ename": "TypeError",
          "evalue": "ignored",
          "traceback": [
            "\u001b[0;31m---------------------------------------------------------------------------\u001b[0m",
            "\u001b[0;31mTypeError\u001b[0m                                 Traceback (most recent call last)",
            "\u001b[0;32m<ipython-input-20-a6a5b83fecde>\u001b[0m in \u001b[0;36m<module>\u001b[0;34m()\u001b[0m\n\u001b[1;32m     10\u001b[0m \u001b[0;34m\u001b[0m\u001b[0m\n\u001b[1;32m     11\u001b[0m \u001b[0;34m\u001b[0m\u001b[0m\n\u001b[0;32m---> 12\u001b[0;31m \u001b[0;32mclass\u001b[0m \u001b[0mYourClass\u001b[0m\u001b[0;34m(\u001b[0m\u001b[0mobject\u001b[0m\u001b[0;34m)\u001b[0m\u001b[0;34m:\u001b[0m\u001b[0;34m\u001b[0m\u001b[0;34m\u001b[0m\u001b[0m\n\u001b[0m\u001b[1;32m     13\u001b[0m     \u001b[0mclassy\u001b[0m \u001b[0;34m=\u001b[0m \u001b[0;36m10\u001b[0m\u001b[0;34m\u001b[0m\u001b[0;34m\u001b[0m\u001b[0m\n\u001b[1;32m     14\u001b[0m \u001b[0;34m\u001b[0m\u001b[0m\n",
            "\u001b[0;31mTypeError\u001b[0m: this_is_class() takes no arguments"
          ]
        }
      ]
    }
  ]
}