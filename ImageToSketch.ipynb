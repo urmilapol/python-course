{
  "nbformat": 4,
  "nbformat_minor": 0,
  "metadata": {
    "colab": {
      "provenance": [],
      "authorship_tag": "ABX9TyPkdA/pUp0jU5ubZDbPClqC",
      "include_colab_link": true
    },
    "kernelspec": {
      "name": "python3",
      "display_name": "Python 3"
    },
    "language_info": {
      "name": "python"
    }
  },
  "cells": [
    {
      "cell_type": "markdown",
      "metadata": {
        "id": "view-in-github",
        "colab_type": "text"
      },
      "source": [
        "<a href=\"https://colab.research.google.com/github/urmilapol/python-course/blob/master/ImageToSketch.ipynb\" target=\"_parent\"><img src=\"https://colab.research.google.com/assets/colab-badge.svg\" alt=\"Open In Colab\"/></a>"
      ]
    },
    {
      "cell_type": "code",
      "execution_count": 4,
      "metadata": {
        "colab": {
          "base_uri": "https://localhost:8080/"
        },
        "id": "f3bkSV7BPvaV",
        "outputId": "cef5bf90-a7c6-4c3b-f0a7-e3943464caa6"
      },
      "outputs": [
        {
          "output_type": "execute_result",
          "data": {
            "text/plain": [
              "True"
            ]
          },
          "metadata": {},
          "execution_count": 4
        }
      ],
      "source": [
        "# Python program to Convert Image into sketch\n",
        " \n",
        " \n",
        "# import all the required modules\n",
        "import numpy as np\n",
        "import imageio\n",
        "import scipy.ndimage\n",
        "import cv2\n",
        " \n",
        " \n",
        "# take image input and assign variable to it\n",
        "img = \"/content/sample_data/urpphotoprofile.png\"\n",
        " \n",
        " \n",
        "# function to convert image into sketch\n",
        "def rgb2gray(rgb):\n",
        "    # 2 dimensional array to convert image to sketch\n",
        "    return np.dot(rgb[..., :3], [0.2989, 0.5870, .1140])\n",
        " \n",
        " \n",
        "def dodge(front, back):\n",
        " \n",
        "    # if image is greater than 255 (which is not possible) it will convert it to 255\n",
        "    final_sketch = front*255/(255-back)\n",
        "    final_sketch[final_sketch > 255] = 255\n",
        "    final_sketch[back == 255] = 255\n",
        " \n",
        "    # to convert any suitable existing column to categorical type we will use aspect function\n",
        "    # and uint8 is for 8-bit signed integer\n",
        "    return final_sketch.astype('uint8')\n",
        " \n",
        " \n",
        "ss = imageio.imread(img)\n",
        "gray = rgb2gray(ss)\n",
        " \n",
        "i = 255-gray\n",
        " \n",
        " \n",
        "# to convert into a blur image\n",
        "blur = scipy.ndimage.filters.gaussian_filter(i, sigma=13)\n",
        " \n",
        " \n",
        "# calling the function\n",
        "r = dodge(blur, gray)\n",
        " \n",
        " \n",
        "cv2.imwrite('4.png', r)"
      ]
    }
  ]
}