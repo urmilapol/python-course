{
  "cells": [
    {
      "cell_type": "markdown",
      "metadata": {
        "id": "view-in-github",
        "colab_type": "text"
      },
      "source": [
        "<a href=\"https://colab.research.google.com/github/urmilapol/python-course/blob/master/stockpred.ipynb\" target=\"_parent\"><img src=\"https://colab.research.google.com/assets/colab-badge.svg\" alt=\"Open In Colab\"/></a>"
      ]
    },
    {
      "cell_type": "markdown",
      "id": "ec25653b",
      "metadata": {
        "id": "ec25653b"
      },
      "source": [
        "# Stock Preduction Using Neuro Network"
      ]
    },
    {
      "cell_type": "code",
      "execution_count": 5,
      "id": "a4fe1f2a",
      "metadata": {
        "id": "a4fe1f2a"
      },
      "outputs": [],
      "source": [
        "import pandas as pd"
      ]
    },
    {
      "cell_type": "code",
      "source": [
        "pip install yfinance"
      ],
      "metadata": {
        "colab": {
          "base_uri": "https://localhost:8080/"
        },
        "id": "H_O2Anwabmb2",
        "outputId": "9bfb1b04-2c9d-4ec8-fc82-af3d7dfdd06a"
      },
      "id": "H_O2Anwabmb2",
      "execution_count": 6,
      "outputs": [
        {
          "output_type": "stream",
          "name": "stdout",
          "text": [
            "Looking in indexes: https://pypi.org/simple, https://us-python.pkg.dev/colab-wheels/public/simple/\n",
            "Requirement already satisfied: yfinance in /usr/local/lib/python3.7/dist-packages (0.1.79)\n",
            "Requirement already satisfied: lxml>=4.5.1 in /usr/local/lib/python3.7/dist-packages (from yfinance) (4.9.1)\n",
            "Requirement already satisfied: multitasking>=0.0.7 in /usr/local/lib/python3.7/dist-packages (from yfinance) (0.0.11)\n",
            "Requirement already satisfied: pandas>=0.24.0 in /usr/local/lib/python3.7/dist-packages (from yfinance) (1.3.5)\n",
            "Requirement already satisfied: numpy>=1.15 in /usr/local/lib/python3.7/dist-packages (from yfinance) (1.21.6)\n",
            "Requirement already satisfied: appdirs>=1.4.4 in /usr/local/lib/python3.7/dist-packages (from yfinance) (1.4.4)\n",
            "Requirement already satisfied: requests>=2.26 in /usr/local/lib/python3.7/dist-packages (from yfinance) (2.28.1)\n",
            "Requirement already satisfied: pytz>=2017.3 in /usr/local/lib/python3.7/dist-packages (from pandas>=0.24.0->yfinance) (2022.4)\n",
            "Requirement already satisfied: python-dateutil>=2.7.3 in /usr/local/lib/python3.7/dist-packages (from pandas>=0.24.0->yfinance) (2.8.2)\n",
            "Requirement already satisfied: six>=1.5 in /usr/local/lib/python3.7/dist-packages (from python-dateutil>=2.7.3->pandas>=0.24.0->yfinance) (1.15.0)\n",
            "Requirement already satisfied: certifi>=2017.4.17 in /usr/local/lib/python3.7/dist-packages (from requests>=2.26->yfinance) (2022.9.24)\n",
            "Requirement already satisfied: idna<4,>=2.5 in /usr/local/lib/python3.7/dist-packages (from requests>=2.26->yfinance) (2.10)\n",
            "Requirement already satisfied: charset-normalizer<3,>=2 in /usr/local/lib/python3.7/dist-packages (from requests>=2.26->yfinance) (2.1.1)\n",
            "Requirement already satisfied: urllib3<1.27,>=1.21.1 in /usr/local/lib/python3.7/dist-packages (from requests>=2.26->yfinance) (1.24.3)\n"
          ]
        }
      ]
    },
    {
      "cell_type": "code",
      "execution_count": 7,
      "id": "7492bfd9",
      "metadata": {
        "id": "7492bfd9"
      },
      "outputs": [],
      "source": [
        "import yfinance as yf"
      ]
    },
    {
      "cell_type": "markdown",
      "id": "157adb1f",
      "metadata": {
        "id": "157adb1f"
      },
      "source": [
        "## Enter the Stock Symbol Name for Stock "
      ]
    },
    {
      "cell_type": "code",
      "execution_count": 8,
      "id": "7e067051",
      "metadata": {
        "colab": {
          "base_uri": "https://localhost:8080/"
        },
        "id": "7e067051",
        "outputId": "6e30481a-fa61-42e2-ac89-529ccec8252f"
      },
      "outputs": [
        {
          "name": "stdout",
          "output_type": "stream",
          "text": [
            "Enter the Symbol :-TCS\n"
          ]
        }
      ],
      "source": [
        "symbol = input(\"Enter the Symbol :-\")"
      ]
    },
    {
      "cell_type": "code",
      "execution_count": 9,
      "id": "ff9aacaa",
      "metadata": {
        "id": "ff9aacaa"
      },
      "outputs": [],
      "source": [
        "symbol_yf = symbol+'.NS'"
      ]
    },
    {
      "cell_type": "code",
      "execution_count": 10,
      "id": "3ebbf280",
      "metadata": {
        "id": "3ebbf280"
      },
      "outputs": [],
      "source": [
        "msft = yf.Ticker(symbol_yf)"
      ]
    },
    {
      "cell_type": "code",
      "execution_count": 11,
      "id": "a8eb703b",
      "metadata": {
        "id": "a8eb703b"
      },
      "outputs": [],
      "source": [
        "hist = msft.history(period=\"max\")"
      ]
    },
    {
      "cell_type": "markdown",
      "id": "64d96f8c",
      "metadata": {
        "id": "64d96f8c"
      },
      "source": [
        "## Max Data of Stock"
      ]
    },
    {
      "cell_type": "code",
      "execution_count": 12,
      "id": "14ff421a",
      "metadata": {
        "colab": {
          "base_uri": "https://localhost:8080/",
          "height": 499
        },
        "id": "14ff421a",
        "outputId": "48aa0df4-5983-4ccf-9212-e5723ecb8efb"
      },
      "outputs": [
        {
          "output_type": "execute_result",
          "data": {
            "text/plain": [
              "                                  Open         High          Low        Close  \\\n",
              "Date                                                                            \n",
              "2002-08-12 00:00:00+05:30    28.348261    29.281614    28.348261    29.062002   \n",
              "2002-08-13 00:00:00+05:30    29.098608    29.565285    28.458073    28.668533   \n",
              "2002-08-14 00:00:00+05:30    28.732594    28.732594    26.152150    26.692032   \n",
              "2002-08-15 00:00:00+05:30    26.692032    26.692032    26.692032    26.692032   \n",
              "2002-08-16 00:00:00+05:30    26.554771    27.817539    26.170448    26.627974   \n",
              "...                                ...          ...          ...          ...   \n",
              "2022-10-14 00:00:00+05:30  3136.881645  3141.868738  3063.072665  3091.149902   \n",
              "2022-10-17 00:00:00+05:30  3072.649902  3128.399902  3071.449951  3111.750000   \n",
              "2022-10-18 00:00:00+05:30  3150.000000  3155.350098  3128.550049  3144.699951   \n",
              "2022-10-19 00:00:00+05:30  3159.000000  3159.000000  3112.000000  3121.850098   \n",
              "2022-10-20 00:00:00+05:30  3105.000000  3155.000000  3105.000000  3146.000000   \n",
              "\n",
              "                            Volume  Dividends  Stock Splits  \n",
              "Date                                                         \n",
              "2002-08-12 00:00:00+05:30   212976        0.0           0.0  \n",
              "2002-08-13 00:00:00+05:30   153576        0.0           0.0  \n",
              "2002-08-14 00:00:00+05:30   822776        0.0           0.0  \n",
              "2002-08-15 00:00:00+05:30        0        0.0           0.0  \n",
              "2002-08-16 00:00:00+05:30   811856        0.0           0.0  \n",
              "...                            ...        ...           ...  \n",
              "2022-10-14 00:00:00+05:30  2245977        0.0           0.0  \n",
              "2022-10-17 00:00:00+05:30  1517005        8.0           0.0  \n",
              "2022-10-18 00:00:00+05:30  1793722        0.0           0.0  \n",
              "2022-10-19 00:00:00+05:30  1194289        0.0           0.0  \n",
              "2022-10-20 00:00:00+05:30   980016        0.0           0.0  \n",
              "\n",
              "[5017 rows x 7 columns]"
            ],
            "text/html": [
              "\n",
              "  <div id=\"df-8ac9397e-2fd5-41fa-b280-7163e001b168\">\n",
              "    <div class=\"colab-df-container\">\n",
              "      <div>\n",
              "<style scoped>\n",
              "    .dataframe tbody tr th:only-of-type {\n",
              "        vertical-align: middle;\n",
              "    }\n",
              "\n",
              "    .dataframe tbody tr th {\n",
              "        vertical-align: top;\n",
              "    }\n",
              "\n",
              "    .dataframe thead th {\n",
              "        text-align: right;\n",
              "    }\n",
              "</style>\n",
              "<table border=\"1\" class=\"dataframe\">\n",
              "  <thead>\n",
              "    <tr style=\"text-align: right;\">\n",
              "      <th></th>\n",
              "      <th>Open</th>\n",
              "      <th>High</th>\n",
              "      <th>Low</th>\n",
              "      <th>Close</th>\n",
              "      <th>Volume</th>\n",
              "      <th>Dividends</th>\n",
              "      <th>Stock Splits</th>\n",
              "    </tr>\n",
              "    <tr>\n",
              "      <th>Date</th>\n",
              "      <th></th>\n",
              "      <th></th>\n",
              "      <th></th>\n",
              "      <th></th>\n",
              "      <th></th>\n",
              "      <th></th>\n",
              "      <th></th>\n",
              "    </tr>\n",
              "  </thead>\n",
              "  <tbody>\n",
              "    <tr>\n",
              "      <th>2002-08-12 00:00:00+05:30</th>\n",
              "      <td>28.348261</td>\n",
              "      <td>29.281614</td>\n",
              "      <td>28.348261</td>\n",
              "      <td>29.062002</td>\n",
              "      <td>212976</td>\n",
              "      <td>0.0</td>\n",
              "      <td>0.0</td>\n",
              "    </tr>\n",
              "    <tr>\n",
              "      <th>2002-08-13 00:00:00+05:30</th>\n",
              "      <td>29.098608</td>\n",
              "      <td>29.565285</td>\n",
              "      <td>28.458073</td>\n",
              "      <td>28.668533</td>\n",
              "      <td>153576</td>\n",
              "      <td>0.0</td>\n",
              "      <td>0.0</td>\n",
              "    </tr>\n",
              "    <tr>\n",
              "      <th>2002-08-14 00:00:00+05:30</th>\n",
              "      <td>28.732594</td>\n",
              "      <td>28.732594</td>\n",
              "      <td>26.152150</td>\n",
              "      <td>26.692032</td>\n",
              "      <td>822776</td>\n",
              "      <td>0.0</td>\n",
              "      <td>0.0</td>\n",
              "    </tr>\n",
              "    <tr>\n",
              "      <th>2002-08-15 00:00:00+05:30</th>\n",
              "      <td>26.692032</td>\n",
              "      <td>26.692032</td>\n",
              "      <td>26.692032</td>\n",
              "      <td>26.692032</td>\n",
              "      <td>0</td>\n",
              "      <td>0.0</td>\n",
              "      <td>0.0</td>\n",
              "    </tr>\n",
              "    <tr>\n",
              "      <th>2002-08-16 00:00:00+05:30</th>\n",
              "      <td>26.554771</td>\n",
              "      <td>27.817539</td>\n",
              "      <td>26.170448</td>\n",
              "      <td>26.627974</td>\n",
              "      <td>811856</td>\n",
              "      <td>0.0</td>\n",
              "      <td>0.0</td>\n",
              "    </tr>\n",
              "    <tr>\n",
              "      <th>...</th>\n",
              "      <td>...</td>\n",
              "      <td>...</td>\n",
              "      <td>...</td>\n",
              "      <td>...</td>\n",
              "      <td>...</td>\n",
              "      <td>...</td>\n",
              "      <td>...</td>\n",
              "    </tr>\n",
              "    <tr>\n",
              "      <th>2022-10-14 00:00:00+05:30</th>\n",
              "      <td>3136.881645</td>\n",
              "      <td>3141.868738</td>\n",
              "      <td>3063.072665</td>\n",
              "      <td>3091.149902</td>\n",
              "      <td>2245977</td>\n",
              "      <td>0.0</td>\n",
              "      <td>0.0</td>\n",
              "    </tr>\n",
              "    <tr>\n",
              "      <th>2022-10-17 00:00:00+05:30</th>\n",
              "      <td>3072.649902</td>\n",
              "      <td>3128.399902</td>\n",
              "      <td>3071.449951</td>\n",
              "      <td>3111.750000</td>\n",
              "      <td>1517005</td>\n",
              "      <td>8.0</td>\n",
              "      <td>0.0</td>\n",
              "    </tr>\n",
              "    <tr>\n",
              "      <th>2022-10-18 00:00:00+05:30</th>\n",
              "      <td>3150.000000</td>\n",
              "      <td>3155.350098</td>\n",
              "      <td>3128.550049</td>\n",
              "      <td>3144.699951</td>\n",
              "      <td>1793722</td>\n",
              "      <td>0.0</td>\n",
              "      <td>0.0</td>\n",
              "    </tr>\n",
              "    <tr>\n",
              "      <th>2022-10-19 00:00:00+05:30</th>\n",
              "      <td>3159.000000</td>\n",
              "      <td>3159.000000</td>\n",
              "      <td>3112.000000</td>\n",
              "      <td>3121.850098</td>\n",
              "      <td>1194289</td>\n",
              "      <td>0.0</td>\n",
              "      <td>0.0</td>\n",
              "    </tr>\n",
              "    <tr>\n",
              "      <th>2022-10-20 00:00:00+05:30</th>\n",
              "      <td>3105.000000</td>\n",
              "      <td>3155.000000</td>\n",
              "      <td>3105.000000</td>\n",
              "      <td>3146.000000</td>\n",
              "      <td>980016</td>\n",
              "      <td>0.0</td>\n",
              "      <td>0.0</td>\n",
              "    </tr>\n",
              "  </tbody>\n",
              "</table>\n",
              "<p>5017 rows × 7 columns</p>\n",
              "</div>\n",
              "      <button class=\"colab-df-convert\" onclick=\"convertToInteractive('df-8ac9397e-2fd5-41fa-b280-7163e001b168')\"\n",
              "              title=\"Convert this dataframe to an interactive table.\"\n",
              "              style=\"display:none;\">\n",
              "        \n",
              "  <svg xmlns=\"http://www.w3.org/2000/svg\" height=\"24px\"viewBox=\"0 0 24 24\"\n",
              "       width=\"24px\">\n",
              "    <path d=\"M0 0h24v24H0V0z\" fill=\"none\"/>\n",
              "    <path d=\"M18.56 5.44l.94 2.06.94-2.06 2.06-.94-2.06-.94-.94-2.06-.94 2.06-2.06.94zm-11 1L8.5 8.5l.94-2.06 2.06-.94-2.06-.94L8.5 2.5l-.94 2.06-2.06.94zm10 10l.94 2.06.94-2.06 2.06-.94-2.06-.94-.94-2.06-.94 2.06-2.06.94z\"/><path d=\"M17.41 7.96l-1.37-1.37c-.4-.4-.92-.59-1.43-.59-.52 0-1.04.2-1.43.59L10.3 9.45l-7.72 7.72c-.78.78-.78 2.05 0 2.83L4 21.41c.39.39.9.59 1.41.59.51 0 1.02-.2 1.41-.59l7.78-7.78 2.81-2.81c.8-.78.8-2.07 0-2.86zM5.41 20L4 18.59l7.72-7.72 1.47 1.35L5.41 20z\"/>\n",
              "  </svg>\n",
              "      </button>\n",
              "      \n",
              "  <style>\n",
              "    .colab-df-container {\n",
              "      display:flex;\n",
              "      flex-wrap:wrap;\n",
              "      gap: 12px;\n",
              "    }\n",
              "\n",
              "    .colab-df-convert {\n",
              "      background-color: #E8F0FE;\n",
              "      border: none;\n",
              "      border-radius: 50%;\n",
              "      cursor: pointer;\n",
              "      display: none;\n",
              "      fill: #1967D2;\n",
              "      height: 32px;\n",
              "      padding: 0 0 0 0;\n",
              "      width: 32px;\n",
              "    }\n",
              "\n",
              "    .colab-df-convert:hover {\n",
              "      background-color: #E2EBFA;\n",
              "      box-shadow: 0px 1px 2px rgba(60, 64, 67, 0.3), 0px 1px 3px 1px rgba(60, 64, 67, 0.15);\n",
              "      fill: #174EA6;\n",
              "    }\n",
              "\n",
              "    [theme=dark] .colab-df-convert {\n",
              "      background-color: #3B4455;\n",
              "      fill: #D2E3FC;\n",
              "    }\n",
              "\n",
              "    [theme=dark] .colab-df-convert:hover {\n",
              "      background-color: #434B5C;\n",
              "      box-shadow: 0px 1px 3px 1px rgba(0, 0, 0, 0.15);\n",
              "      filter: drop-shadow(0px 1px 2px rgba(0, 0, 0, 0.3));\n",
              "      fill: #FFFFFF;\n",
              "    }\n",
              "  </style>\n",
              "\n",
              "      <script>\n",
              "        const buttonEl =\n",
              "          document.querySelector('#df-8ac9397e-2fd5-41fa-b280-7163e001b168 button.colab-df-convert');\n",
              "        buttonEl.style.display =\n",
              "          google.colab.kernel.accessAllowed ? 'block' : 'none';\n",
              "\n",
              "        async function convertToInteractive(key) {\n",
              "          const element = document.querySelector('#df-8ac9397e-2fd5-41fa-b280-7163e001b168');\n",
              "          const dataTable =\n",
              "            await google.colab.kernel.invokeFunction('convertToInteractive',\n",
              "                                                     [key], {});\n",
              "          if (!dataTable) return;\n",
              "\n",
              "          const docLinkHtml = 'Like what you see? Visit the ' +\n",
              "            '<a target=\"_blank\" href=https://colab.research.google.com/notebooks/data_table.ipynb>data table notebook</a>'\n",
              "            + ' to learn more about interactive tables.';\n",
              "          element.innerHTML = '';\n",
              "          dataTable['output_type'] = 'display_data';\n",
              "          await google.colab.output.renderOutput(dataTable, element);\n",
              "          const docLink = document.createElement('div');\n",
              "          docLink.innerHTML = docLinkHtml;\n",
              "          element.appendChild(docLink);\n",
              "        }\n",
              "      </script>\n",
              "    </div>\n",
              "  </div>\n",
              "  "
            ]
          },
          "metadata": {},
          "execution_count": 12
        }
      ],
      "source": [
        "hist"
      ]
    },
    {
      "cell_type": "code",
      "execution_count": 13,
      "id": "2e404401",
      "metadata": {
        "id": "2e404401"
      },
      "outputs": [],
      "source": [
        "df = hist.reset_index()"
      ]
    },
    {
      "cell_type": "code",
      "execution_count": 14,
      "id": "f9b11faa",
      "metadata": {
        "colab": {
          "base_uri": "https://localhost:8080/",
          "height": 659
        },
        "id": "f9b11faa",
        "outputId": "98e49868-6a01-43c8-e057-d2263d2b912a"
      },
      "outputs": [
        {
          "output_type": "execute_result",
          "data": {
            "text/plain": [
              "                          Date         Open         High          Low  \\\n",
              "0    2002-08-12 00:00:00+05:30    28.348261    29.281614    28.348261   \n",
              "1    2002-08-13 00:00:00+05:30    29.098608    29.565285    28.458073   \n",
              "2    2002-08-14 00:00:00+05:30    28.732594    28.732594    26.152150   \n",
              "3    2002-08-15 00:00:00+05:30    26.692032    26.692032    26.692032   \n",
              "4    2002-08-16 00:00:00+05:30    26.554771    27.817539    26.170448   \n",
              "...                        ...          ...          ...          ...   \n",
              "5012 2022-10-14 00:00:00+05:30  3136.881645  3141.868738  3063.072665   \n",
              "5013 2022-10-17 00:00:00+05:30  3072.649902  3128.399902  3071.449951   \n",
              "5014 2022-10-18 00:00:00+05:30  3150.000000  3155.350098  3128.550049   \n",
              "5015 2022-10-19 00:00:00+05:30  3159.000000  3159.000000  3112.000000   \n",
              "5016 2022-10-20 00:00:00+05:30  3105.000000  3155.000000  3105.000000   \n",
              "\n",
              "            Close   Volume  Dividends  Stock Splits  \n",
              "0       29.062002   212976        0.0           0.0  \n",
              "1       28.668533   153576        0.0           0.0  \n",
              "2       26.692032   822776        0.0           0.0  \n",
              "3       26.692032        0        0.0           0.0  \n",
              "4       26.627974   811856        0.0           0.0  \n",
              "...           ...      ...        ...           ...  \n",
              "5012  3091.149902  2245977        0.0           0.0  \n",
              "5013  3111.750000  1517005        8.0           0.0  \n",
              "5014  3144.699951  1793722        0.0           0.0  \n",
              "5015  3121.850098  1194289        0.0           0.0  \n",
              "5016  3146.000000   980016        0.0           0.0  \n",
              "\n",
              "[5017 rows x 8 columns]"
            ],
            "text/html": [
              "\n",
              "  <div id=\"df-926c9fe0-4d11-4d3d-ac77-d11cf6f47591\">\n",
              "    <div class=\"colab-df-container\">\n",
              "      <div>\n",
              "<style scoped>\n",
              "    .dataframe tbody tr th:only-of-type {\n",
              "        vertical-align: middle;\n",
              "    }\n",
              "\n",
              "    .dataframe tbody tr th {\n",
              "        vertical-align: top;\n",
              "    }\n",
              "\n",
              "    .dataframe thead th {\n",
              "        text-align: right;\n",
              "    }\n",
              "</style>\n",
              "<table border=\"1\" class=\"dataframe\">\n",
              "  <thead>\n",
              "    <tr style=\"text-align: right;\">\n",
              "      <th></th>\n",
              "      <th>Date</th>\n",
              "      <th>Open</th>\n",
              "      <th>High</th>\n",
              "      <th>Low</th>\n",
              "      <th>Close</th>\n",
              "      <th>Volume</th>\n",
              "      <th>Dividends</th>\n",
              "      <th>Stock Splits</th>\n",
              "    </tr>\n",
              "  </thead>\n",
              "  <tbody>\n",
              "    <tr>\n",
              "      <th>0</th>\n",
              "      <td>2002-08-12 00:00:00+05:30</td>\n",
              "      <td>28.348261</td>\n",
              "      <td>29.281614</td>\n",
              "      <td>28.348261</td>\n",
              "      <td>29.062002</td>\n",
              "      <td>212976</td>\n",
              "      <td>0.0</td>\n",
              "      <td>0.0</td>\n",
              "    </tr>\n",
              "    <tr>\n",
              "      <th>1</th>\n",
              "      <td>2002-08-13 00:00:00+05:30</td>\n",
              "      <td>29.098608</td>\n",
              "      <td>29.565285</td>\n",
              "      <td>28.458073</td>\n",
              "      <td>28.668533</td>\n",
              "      <td>153576</td>\n",
              "      <td>0.0</td>\n",
              "      <td>0.0</td>\n",
              "    </tr>\n",
              "    <tr>\n",
              "      <th>2</th>\n",
              "      <td>2002-08-14 00:00:00+05:30</td>\n",
              "      <td>28.732594</td>\n",
              "      <td>28.732594</td>\n",
              "      <td>26.152150</td>\n",
              "      <td>26.692032</td>\n",
              "      <td>822776</td>\n",
              "      <td>0.0</td>\n",
              "      <td>0.0</td>\n",
              "    </tr>\n",
              "    <tr>\n",
              "      <th>3</th>\n",
              "      <td>2002-08-15 00:00:00+05:30</td>\n",
              "      <td>26.692032</td>\n",
              "      <td>26.692032</td>\n",
              "      <td>26.692032</td>\n",
              "      <td>26.692032</td>\n",
              "      <td>0</td>\n",
              "      <td>0.0</td>\n",
              "      <td>0.0</td>\n",
              "    </tr>\n",
              "    <tr>\n",
              "      <th>4</th>\n",
              "      <td>2002-08-16 00:00:00+05:30</td>\n",
              "      <td>26.554771</td>\n",
              "      <td>27.817539</td>\n",
              "      <td>26.170448</td>\n",
              "      <td>26.627974</td>\n",
              "      <td>811856</td>\n",
              "      <td>0.0</td>\n",
              "      <td>0.0</td>\n",
              "    </tr>\n",
              "    <tr>\n",
              "      <th>...</th>\n",
              "      <td>...</td>\n",
              "      <td>...</td>\n",
              "      <td>...</td>\n",
              "      <td>...</td>\n",
              "      <td>...</td>\n",
              "      <td>...</td>\n",
              "      <td>...</td>\n",
              "      <td>...</td>\n",
              "    </tr>\n",
              "    <tr>\n",
              "      <th>5012</th>\n",
              "      <td>2022-10-14 00:00:00+05:30</td>\n",
              "      <td>3136.881645</td>\n",
              "      <td>3141.868738</td>\n",
              "      <td>3063.072665</td>\n",
              "      <td>3091.149902</td>\n",
              "      <td>2245977</td>\n",
              "      <td>0.0</td>\n",
              "      <td>0.0</td>\n",
              "    </tr>\n",
              "    <tr>\n",
              "      <th>5013</th>\n",
              "      <td>2022-10-17 00:00:00+05:30</td>\n",
              "      <td>3072.649902</td>\n",
              "      <td>3128.399902</td>\n",
              "      <td>3071.449951</td>\n",
              "      <td>3111.750000</td>\n",
              "      <td>1517005</td>\n",
              "      <td>8.0</td>\n",
              "      <td>0.0</td>\n",
              "    </tr>\n",
              "    <tr>\n",
              "      <th>5014</th>\n",
              "      <td>2022-10-18 00:00:00+05:30</td>\n",
              "      <td>3150.000000</td>\n",
              "      <td>3155.350098</td>\n",
              "      <td>3128.550049</td>\n",
              "      <td>3144.699951</td>\n",
              "      <td>1793722</td>\n",
              "      <td>0.0</td>\n",
              "      <td>0.0</td>\n",
              "    </tr>\n",
              "    <tr>\n",
              "      <th>5015</th>\n",
              "      <td>2022-10-19 00:00:00+05:30</td>\n",
              "      <td>3159.000000</td>\n",
              "      <td>3159.000000</td>\n",
              "      <td>3112.000000</td>\n",
              "      <td>3121.850098</td>\n",
              "      <td>1194289</td>\n",
              "      <td>0.0</td>\n",
              "      <td>0.0</td>\n",
              "    </tr>\n",
              "    <tr>\n",
              "      <th>5016</th>\n",
              "      <td>2022-10-20 00:00:00+05:30</td>\n",
              "      <td>3105.000000</td>\n",
              "      <td>3155.000000</td>\n",
              "      <td>3105.000000</td>\n",
              "      <td>3146.000000</td>\n",
              "      <td>980016</td>\n",
              "      <td>0.0</td>\n",
              "      <td>0.0</td>\n",
              "    </tr>\n",
              "  </tbody>\n",
              "</table>\n",
              "<p>5017 rows × 8 columns</p>\n",
              "</div>\n",
              "      <button class=\"colab-df-convert\" onclick=\"convertToInteractive('df-926c9fe0-4d11-4d3d-ac77-d11cf6f47591')\"\n",
              "              title=\"Convert this dataframe to an interactive table.\"\n",
              "              style=\"display:none;\">\n",
              "        \n",
              "  <svg xmlns=\"http://www.w3.org/2000/svg\" height=\"24px\"viewBox=\"0 0 24 24\"\n",
              "       width=\"24px\">\n",
              "    <path d=\"M0 0h24v24H0V0z\" fill=\"none\"/>\n",
              "    <path d=\"M18.56 5.44l.94 2.06.94-2.06 2.06-.94-2.06-.94-.94-2.06-.94 2.06-2.06.94zm-11 1L8.5 8.5l.94-2.06 2.06-.94-2.06-.94L8.5 2.5l-.94 2.06-2.06.94zm10 10l.94 2.06.94-2.06 2.06-.94-2.06-.94-.94-2.06-.94 2.06-2.06.94z\"/><path d=\"M17.41 7.96l-1.37-1.37c-.4-.4-.92-.59-1.43-.59-.52 0-1.04.2-1.43.59L10.3 9.45l-7.72 7.72c-.78.78-.78 2.05 0 2.83L4 21.41c.39.39.9.59 1.41.59.51 0 1.02-.2 1.41-.59l7.78-7.78 2.81-2.81c.8-.78.8-2.07 0-2.86zM5.41 20L4 18.59l7.72-7.72 1.47 1.35L5.41 20z\"/>\n",
              "  </svg>\n",
              "      </button>\n",
              "      \n",
              "  <style>\n",
              "    .colab-df-container {\n",
              "      display:flex;\n",
              "      flex-wrap:wrap;\n",
              "      gap: 12px;\n",
              "    }\n",
              "\n",
              "    .colab-df-convert {\n",
              "      background-color: #E8F0FE;\n",
              "      border: none;\n",
              "      border-radius: 50%;\n",
              "      cursor: pointer;\n",
              "      display: none;\n",
              "      fill: #1967D2;\n",
              "      height: 32px;\n",
              "      padding: 0 0 0 0;\n",
              "      width: 32px;\n",
              "    }\n",
              "\n",
              "    .colab-df-convert:hover {\n",
              "      background-color: #E2EBFA;\n",
              "      box-shadow: 0px 1px 2px rgba(60, 64, 67, 0.3), 0px 1px 3px 1px rgba(60, 64, 67, 0.15);\n",
              "      fill: #174EA6;\n",
              "    }\n",
              "\n",
              "    [theme=dark] .colab-df-convert {\n",
              "      background-color: #3B4455;\n",
              "      fill: #D2E3FC;\n",
              "    }\n",
              "\n",
              "    [theme=dark] .colab-df-convert:hover {\n",
              "      background-color: #434B5C;\n",
              "      box-shadow: 0px 1px 3px 1px rgba(0, 0, 0, 0.15);\n",
              "      filter: drop-shadow(0px 1px 2px rgba(0, 0, 0, 0.3));\n",
              "      fill: #FFFFFF;\n",
              "    }\n",
              "  </style>\n",
              "\n",
              "      <script>\n",
              "        const buttonEl =\n",
              "          document.querySelector('#df-926c9fe0-4d11-4d3d-ac77-d11cf6f47591 button.colab-df-convert');\n",
              "        buttonEl.style.display =\n",
              "          google.colab.kernel.accessAllowed ? 'block' : 'none';\n",
              "\n",
              "        async function convertToInteractive(key) {\n",
              "          const element = document.querySelector('#df-926c9fe0-4d11-4d3d-ac77-d11cf6f47591');\n",
              "          const dataTable =\n",
              "            await google.colab.kernel.invokeFunction('convertToInteractive',\n",
              "                                                     [key], {});\n",
              "          if (!dataTable) return;\n",
              "\n",
              "          const docLinkHtml = 'Like what you see? Visit the ' +\n",
              "            '<a target=\"_blank\" href=https://colab.research.google.com/notebooks/data_table.ipynb>data table notebook</a>'\n",
              "            + ' to learn more about interactive tables.';\n",
              "          element.innerHTML = '';\n",
              "          dataTable['output_type'] = 'display_data';\n",
              "          await google.colab.output.renderOutput(dataTable, element);\n",
              "          const docLink = document.createElement('div');\n",
              "          docLink.innerHTML = docLinkHtml;\n",
              "          element.appendChild(docLink);\n",
              "        }\n",
              "      </script>\n",
              "    </div>\n",
              "  </div>\n",
              "  "
            ]
          },
          "metadata": {},
          "execution_count": 14
        }
      ],
      "source": [
        "df"
      ]
    },
    {
      "cell_type": "code",
      "execution_count": 15,
      "id": "e9a67268",
      "metadata": {
        "id": "e9a67268"
      },
      "outputs": [],
      "source": [
        "import numpy as np\n",
        "from sklearn import metrics\n",
        "%matplotlib inline\n",
        "import matplotlib.pyplot as plt"
      ]
    },
    {
      "cell_type": "markdown",
      "id": "9b9c9fea",
      "metadata": {
        "id": "9b9c9fea"
      },
      "source": [
        "## Convert Date to Datetime"
      ]
    },
    {
      "cell_type": "code",
      "execution_count": 16,
      "id": "a65e8642",
      "metadata": {
        "id": "a65e8642"
      },
      "outputs": [],
      "source": [
        "df['Date'] = pd.to_datetime(df.Date)"
      ]
    },
    {
      "cell_type": "markdown",
      "id": "674d9c77",
      "metadata": {
        "id": "674d9c77"
      },
      "source": [
        "## Shape of data"
      ]
    },
    {
      "cell_type": "code",
      "execution_count": 17,
      "id": "82c053d0",
      "metadata": {
        "colab": {
          "base_uri": "https://localhost:8080/"
        },
        "id": "82c053d0",
        "outputId": "3187efb8-4d24-4339-95b7-68731b1f40b7"
      },
      "outputs": [
        {
          "output_type": "execute_result",
          "data": {
            "text/plain": [
              "(5017, 8)"
            ]
          },
          "metadata": {},
          "execution_count": 17
        }
      ],
      "source": [
        "df.shape"
      ]
    },
    {
      "cell_type": "markdown",
      "id": "458120ab",
      "metadata": {
        "id": "458120ab"
      },
      "source": [
        "## Check for null values"
      ]
    },
    {
      "cell_type": "code",
      "execution_count": 18,
      "id": "0c74a7bc",
      "metadata": {
        "colab": {
          "base_uri": "https://localhost:8080/"
        },
        "id": "0c74a7bc",
        "outputId": "3ca4bf7c-5412-478e-a0e7-8a250e8179f3"
      },
      "outputs": [
        {
          "output_type": "execute_result",
          "data": {
            "text/plain": [
              "Date            0\n",
              "Open            0\n",
              "High            0\n",
              "Low             0\n",
              "Close           0\n",
              "Volume          0\n",
              "Dividends       0\n",
              "Stock Splits    0\n",
              "dtype: int64"
            ]
          },
          "metadata": {},
          "execution_count": 18
        }
      ],
      "source": [
        "df.isnull().sum()"
      ]
    },
    {
      "cell_type": "code",
      "execution_count": 19,
      "id": "616d1d41",
      "metadata": {
        "colab": {
          "base_uri": "https://localhost:8080/"
        },
        "id": "616d1d41",
        "outputId": "e14bdb74-1e5f-4567-e44c-6ec453e6ea61"
      },
      "outputs": [
        {
          "output_type": "execute_result",
          "data": {
            "text/plain": [
              "Date            False\n",
              "Open            False\n",
              "High            False\n",
              "Low             False\n",
              "Close           False\n",
              "Volume          False\n",
              "Dividends       False\n",
              "Stock Splits    False\n",
              "dtype: bool"
            ]
          },
          "metadata": {},
          "execution_count": 19
        }
      ],
      "source": [
        "df.isna().any()"
      ]
    },
    {
      "cell_type": "markdown",
      "id": "9d0e35ba",
      "metadata": {
        "id": "9d0e35ba"
      },
      "source": [
        "## Infromation about data"
      ]
    },
    {
      "cell_type": "code",
      "execution_count": 20,
      "id": "7acbf8f9",
      "metadata": {
        "colab": {
          "base_uri": "https://localhost:8080/"
        },
        "id": "7acbf8f9",
        "outputId": "01c58bdc-bcea-457b-86bd-77f600526684"
      },
      "outputs": [
        {
          "output_type": "stream",
          "name": "stdout",
          "text": [
            "<class 'pandas.core.frame.DataFrame'>\n",
            "RangeIndex: 5017 entries, 0 to 5016\n",
            "Data columns (total 8 columns):\n",
            " #   Column        Non-Null Count  Dtype                       \n",
            "---  ------        --------------  -----                       \n",
            " 0   Date          5017 non-null   datetime64[ns, Asia/Kolkata]\n",
            " 1   Open          5017 non-null   float64                     \n",
            " 2   High          5017 non-null   float64                     \n",
            " 3   Low           5017 non-null   float64                     \n",
            " 4   Close         5017 non-null   float64                     \n",
            " 5   Volume        5017 non-null   int64                       \n",
            " 6   Dividends     5017 non-null   float64                     \n",
            " 7   Stock Splits  5017 non-null   float64                     \n",
            "dtypes: datetime64[ns, Asia/Kolkata](1), float64(6), int64(1)\n",
            "memory usage: 313.7 KB\n"
          ]
        }
      ],
      "source": [
        "df.info()"
      ]
    },
    {
      "cell_type": "markdown",
      "id": "3d4b9fd1",
      "metadata": {
        "id": "3d4b9fd1"
      },
      "source": [
        "## Describe the data"
      ]
    },
    {
      "cell_type": "code",
      "execution_count": 21,
      "id": "4edbfb43",
      "metadata": {
        "colab": {
          "base_uri": "https://localhost:8080/",
          "height": 0
        },
        "id": "4edbfb43",
        "outputId": "a5e23340-238b-47f3-e06a-32d3728e9763"
      },
      "outputs": [
        {
          "output_type": "execute_result",
          "data": {
            "text/plain": [
              "              Open         High          Low        Close        Volume  \\\n",
              "count  5017.000000  5017.000000  5017.000000  5017.000000  5.017000e+03   \n",
              "mean    941.453902   951.534583   930.563714   940.904781  3.282642e+06   \n",
              "std     988.475519   997.664152   978.231808   987.774340  3.212893e+06   \n",
              "min      23.773010    26.682877    23.773010    25.969130  0.000000e+00   \n",
              "25%     168.329021   171.871909   164.119795   168.032837  1.691923e+06   \n",
              "50%     518.712471   523.057272   513.046527   518.086182  2.597408e+06   \n",
              "75%    1179.229096  1192.977408  1166.855867  1178.672485  4.081208e+06   \n",
              "max    3979.101503  3988.028746  3925.885093  3964.502930  8.806715e+07   \n",
              "\n",
              "         Dividends  Stock Splits  \n",
              "count  5017.000000   5017.000000  \n",
              "mean      0.073998      0.001196  \n",
              "std       0.984726      0.048897  \n",
              "min       0.000000      0.000000  \n",
              "25%       0.000000      0.000000  \n",
              "50%       0.000000      0.000000  \n",
              "75%       0.000000      0.000000  \n",
              "max      40.000000      2.000000  "
            ],
            "text/html": [
              "\n",
              "  <div id=\"df-cd9209cc-e8c8-44b8-b44c-ae18c56f66d6\">\n",
              "    <div class=\"colab-df-container\">\n",
              "      <div>\n",
              "<style scoped>\n",
              "    .dataframe tbody tr th:only-of-type {\n",
              "        vertical-align: middle;\n",
              "    }\n",
              "\n",
              "    .dataframe tbody tr th {\n",
              "        vertical-align: top;\n",
              "    }\n",
              "\n",
              "    .dataframe thead th {\n",
              "        text-align: right;\n",
              "    }\n",
              "</style>\n",
              "<table border=\"1\" class=\"dataframe\">\n",
              "  <thead>\n",
              "    <tr style=\"text-align: right;\">\n",
              "      <th></th>\n",
              "      <th>Open</th>\n",
              "      <th>High</th>\n",
              "      <th>Low</th>\n",
              "      <th>Close</th>\n",
              "      <th>Volume</th>\n",
              "      <th>Dividends</th>\n",
              "      <th>Stock Splits</th>\n",
              "    </tr>\n",
              "  </thead>\n",
              "  <tbody>\n",
              "    <tr>\n",
              "      <th>count</th>\n",
              "      <td>5017.000000</td>\n",
              "      <td>5017.000000</td>\n",
              "      <td>5017.000000</td>\n",
              "      <td>5017.000000</td>\n",
              "      <td>5.017000e+03</td>\n",
              "      <td>5017.000000</td>\n",
              "      <td>5017.000000</td>\n",
              "    </tr>\n",
              "    <tr>\n",
              "      <th>mean</th>\n",
              "      <td>941.453902</td>\n",
              "      <td>951.534583</td>\n",
              "      <td>930.563714</td>\n",
              "      <td>940.904781</td>\n",
              "      <td>3.282642e+06</td>\n",
              "      <td>0.073998</td>\n",
              "      <td>0.001196</td>\n",
              "    </tr>\n",
              "    <tr>\n",
              "      <th>std</th>\n",
              "      <td>988.475519</td>\n",
              "      <td>997.664152</td>\n",
              "      <td>978.231808</td>\n",
              "      <td>987.774340</td>\n",
              "      <td>3.212893e+06</td>\n",
              "      <td>0.984726</td>\n",
              "      <td>0.048897</td>\n",
              "    </tr>\n",
              "    <tr>\n",
              "      <th>min</th>\n",
              "      <td>23.773010</td>\n",
              "      <td>26.682877</td>\n",
              "      <td>23.773010</td>\n",
              "      <td>25.969130</td>\n",
              "      <td>0.000000e+00</td>\n",
              "      <td>0.000000</td>\n",
              "      <td>0.000000</td>\n",
              "    </tr>\n",
              "    <tr>\n",
              "      <th>25%</th>\n",
              "      <td>168.329021</td>\n",
              "      <td>171.871909</td>\n",
              "      <td>164.119795</td>\n",
              "      <td>168.032837</td>\n",
              "      <td>1.691923e+06</td>\n",
              "      <td>0.000000</td>\n",
              "      <td>0.000000</td>\n",
              "    </tr>\n",
              "    <tr>\n",
              "      <th>50%</th>\n",
              "      <td>518.712471</td>\n",
              "      <td>523.057272</td>\n",
              "      <td>513.046527</td>\n",
              "      <td>518.086182</td>\n",
              "      <td>2.597408e+06</td>\n",
              "      <td>0.000000</td>\n",
              "      <td>0.000000</td>\n",
              "    </tr>\n",
              "    <tr>\n",
              "      <th>75%</th>\n",
              "      <td>1179.229096</td>\n",
              "      <td>1192.977408</td>\n",
              "      <td>1166.855867</td>\n",
              "      <td>1178.672485</td>\n",
              "      <td>4.081208e+06</td>\n",
              "      <td>0.000000</td>\n",
              "      <td>0.000000</td>\n",
              "    </tr>\n",
              "    <tr>\n",
              "      <th>max</th>\n",
              "      <td>3979.101503</td>\n",
              "      <td>3988.028746</td>\n",
              "      <td>3925.885093</td>\n",
              "      <td>3964.502930</td>\n",
              "      <td>8.806715e+07</td>\n",
              "      <td>40.000000</td>\n",
              "      <td>2.000000</td>\n",
              "    </tr>\n",
              "  </tbody>\n",
              "</table>\n",
              "</div>\n",
              "      <button class=\"colab-df-convert\" onclick=\"convertToInteractive('df-cd9209cc-e8c8-44b8-b44c-ae18c56f66d6')\"\n",
              "              title=\"Convert this dataframe to an interactive table.\"\n",
              "              style=\"display:none;\">\n",
              "        \n",
              "  <svg xmlns=\"http://www.w3.org/2000/svg\" height=\"24px\"viewBox=\"0 0 24 24\"\n",
              "       width=\"24px\">\n",
              "    <path d=\"M0 0h24v24H0V0z\" fill=\"none\"/>\n",
              "    <path d=\"M18.56 5.44l.94 2.06.94-2.06 2.06-.94-2.06-.94-.94-2.06-.94 2.06-2.06.94zm-11 1L8.5 8.5l.94-2.06 2.06-.94-2.06-.94L8.5 2.5l-.94 2.06-2.06.94zm10 10l.94 2.06.94-2.06 2.06-.94-2.06-.94-.94-2.06-.94 2.06-2.06.94z\"/><path d=\"M17.41 7.96l-1.37-1.37c-.4-.4-.92-.59-1.43-.59-.52 0-1.04.2-1.43.59L10.3 9.45l-7.72 7.72c-.78.78-.78 2.05 0 2.83L4 21.41c.39.39.9.59 1.41.59.51 0 1.02-.2 1.41-.59l7.78-7.78 2.81-2.81c.8-.78.8-2.07 0-2.86zM5.41 20L4 18.59l7.72-7.72 1.47 1.35L5.41 20z\"/>\n",
              "  </svg>\n",
              "      </button>\n",
              "      \n",
              "  <style>\n",
              "    .colab-df-container {\n",
              "      display:flex;\n",
              "      flex-wrap:wrap;\n",
              "      gap: 12px;\n",
              "    }\n",
              "\n",
              "    .colab-df-convert {\n",
              "      background-color: #E8F0FE;\n",
              "      border: none;\n",
              "      border-radius: 50%;\n",
              "      cursor: pointer;\n",
              "      display: none;\n",
              "      fill: #1967D2;\n",
              "      height: 32px;\n",
              "      padding: 0 0 0 0;\n",
              "      width: 32px;\n",
              "    }\n",
              "\n",
              "    .colab-df-convert:hover {\n",
              "      background-color: #E2EBFA;\n",
              "      box-shadow: 0px 1px 2px rgba(60, 64, 67, 0.3), 0px 1px 3px 1px rgba(60, 64, 67, 0.15);\n",
              "      fill: #174EA6;\n",
              "    }\n",
              "\n",
              "    [theme=dark] .colab-df-convert {\n",
              "      background-color: #3B4455;\n",
              "      fill: #D2E3FC;\n",
              "    }\n",
              "\n",
              "    [theme=dark] .colab-df-convert:hover {\n",
              "      background-color: #434B5C;\n",
              "      box-shadow: 0px 1px 3px 1px rgba(0, 0, 0, 0.15);\n",
              "      filter: drop-shadow(0px 1px 2px rgba(0, 0, 0, 0.3));\n",
              "      fill: #FFFFFF;\n",
              "    }\n",
              "  </style>\n",
              "\n",
              "      <script>\n",
              "        const buttonEl =\n",
              "          document.querySelector('#df-cd9209cc-e8c8-44b8-b44c-ae18c56f66d6 button.colab-df-convert');\n",
              "        buttonEl.style.display =\n",
              "          google.colab.kernel.accessAllowed ? 'block' : 'none';\n",
              "\n",
              "        async function convertToInteractive(key) {\n",
              "          const element = document.querySelector('#df-cd9209cc-e8c8-44b8-b44c-ae18c56f66d6');\n",
              "          const dataTable =\n",
              "            await google.colab.kernel.invokeFunction('convertToInteractive',\n",
              "                                                     [key], {});\n",
              "          if (!dataTable) return;\n",
              "\n",
              "          const docLinkHtml = 'Like what you see? Visit the ' +\n",
              "            '<a target=\"_blank\" href=https://colab.research.google.com/notebooks/data_table.ipynb>data table notebook</a>'\n",
              "            + ' to learn more about interactive tables.';\n",
              "          element.innerHTML = '';\n",
              "          dataTable['output_type'] = 'display_data';\n",
              "          await google.colab.output.renderOutput(dataTable, element);\n",
              "          const docLink = document.createElement('div');\n",
              "          docLink.innerHTML = docLinkHtml;\n",
              "          element.appendChild(docLink);\n",
              "        }\n",
              "      </script>\n",
              "    </div>\n",
              "  </div>\n",
              "  "
            ]
          },
          "metadata": {},
          "execution_count": 21
        }
      ],
      "source": [
        "df.describe()"
      ]
    },
    {
      "cell_type": "code",
      "execution_count": 22,
      "id": "86d116a1",
      "metadata": {
        "colab": {
          "base_uri": "https://localhost:8080/"
        },
        "id": "86d116a1",
        "outputId": "c1246d46-0f56-4fef-a5af-0644d0db6fce"
      },
      "outputs": [
        {
          "output_type": "stream",
          "name": "stdout",
          "text": [
            "5017\n"
          ]
        }
      ],
      "source": [
        "print(len(df))"
      ]
    },
    {
      "cell_type": "markdown",
      "id": "29c3fba4",
      "metadata": {
        "id": "29c3fba4"
      },
      "source": [
        "## Ploting the Data using open values"
      ]
    },
    {
      "cell_type": "code",
      "execution_count": 23,
      "id": "03784486",
      "metadata": {
        "colab": {
          "base_uri": "https://localhost:8080/",
          "height": 0
        },
        "id": "03784486",
        "outputId": "368b09a7-da78-4834-fbc1-fbd763af5be3"
      },
      "outputs": [
        {
          "output_type": "execute_result",
          "data": {
            "text/plain": [
              "<matplotlib.axes._subplots.AxesSubplot at 0x7f1c84232fd0>"
            ]
          },
          "metadata": {},
          "execution_count": 23
        },
        {
          "output_type": "display_data",
          "data": {
            "text/plain": [
              "<Figure size 1152x432 with 1 Axes>"
            ],
            "image/png": "[encoded data removed]"
          },
          "metadata": {
            "needs_background": "light"
          }
        }
      ],
      "source": [
        "df['Open'].plot(figsize=(16,6))"
      ]
    },
    {
      "cell_type": "code",
      "execution_count": 24,
      "id": "34e3c356",
      "metadata": {
        "id": "34e3c356"
      },
      "outputs": [],
      "source": [
        "x = df[['Open','High','Low','Volume']]\n",
        "y = df['Close']"
      ]
    },
    {
      "cell_type": "markdown",
      "id": "fafff3bf",
      "metadata": {
        "id": "fafff3bf"
      },
      "source": [
        "## Spliting the data for training and testing"
      ]
    },
    {
      "cell_type": "code",
      "execution_count": 25,
      "id": "71e502c6",
      "metadata": {
        "id": "71e502c6"
      },
      "outputs": [],
      "source": [
        "from sklearn.model_selection import train_test_split\n",
        "x_train , x_test , y_train , y_test = train_test_split(x ,y , random_state = 0 )"
      ]
    },
    {
      "cell_type": "code",
      "execution_count": 26,
      "id": "e0bd2bff",
      "metadata": {
        "colab": {
          "base_uri": "https://localhost:8080/"
        },
        "id": "e0bd2bff",
        "outputId": "8d43ec84-dba4-4f76-8e81-8143a41872b2"
      },
      "outputs": [
        {
          "output_type": "execute_result",
          "data": {
            "text/plain": [
              "(3762, 4)"
            ]
          },
          "metadata": {},
          "execution_count": 26
        }
      ],
      "source": [
        "x_train.shape"
      ]
    },
    {
      "cell_type": "code",
      "execution_count": 27,
      "id": "c7759394",
      "metadata": {
        "colab": {
          "base_uri": "https://localhost:8080/"
        },
        "id": "c7759394",
        "outputId": "280e3527-5eb2-474f-d08e-b97af5417bb1"
      },
      "outputs": [
        {
          "output_type": "execute_result",
          "data": {
            "text/plain": [
              "(1255, 4)"
            ]
          },
          "metadata": {},
          "execution_count": 27
        }
      ],
      "source": [
        "x_test.shape"
      ]
    },
    {
      "cell_type": "code",
      "execution_count": 28,
      "id": "49484dfc",
      "metadata": {
        "id": "49484dfc"
      },
      "outputs": [],
      "source": [
        "from sklearn.linear_model import LinearRegression\n",
        "from sklearn.metrics import confusion_matrix, accuracy_score\n",
        "regressor = LinearRegression()"
      ]
    },
    {
      "cell_type": "code",
      "execution_count": 29,
      "id": "32009ee9",
      "metadata": {
        "colab": {
          "base_uri": "https://localhost:8080/"
        },
        "id": "32009ee9",
        "outputId": "482ca110-61b2-40e5-d26c-4fe039d232f5"
      },
      "outputs": [
        {
          "output_type": "stream",
          "name": "stdout",
          "text": [
            "<class 'pandas.core.frame.DataFrame'>\n",
            "RangeIndex: 5017 entries, 0 to 5016\n",
            "Data columns (total 8 columns):\n",
            " #   Column        Non-Null Count  Dtype                       \n",
            "---  ------        --------------  -----                       \n",
            " 0   Date          5017 non-null   datetime64[ns, Asia/Kolkata]\n",
            " 1   Open          5017 non-null   float64                     \n",
            " 2   High          5017 non-null   float64                     \n",
            " 3   Low           5017 non-null   float64                     \n",
            " 4   Close         5017 non-null   float64                     \n",
            " 5   Volume        5017 non-null   int64                       \n",
            " 6   Dividends     5017 non-null   float64                     \n",
            " 7   Stock Splits  5017 non-null   float64                     \n",
            "dtypes: datetime64[ns, Asia/Kolkata](1), float64(6), int64(1)\n",
            "memory usage: 313.7 KB\n"
          ]
        }
      ],
      "source": [
        "df.info()"
      ]
    },
    {
      "cell_type": "markdown",
      "id": "e4d6a598",
      "metadata": {
        "id": "e4d6a598"
      },
      "source": [
        "## If any Replace NA values with 0 "
      ]
    },
    {
      "cell_type": "code",
      "execution_count": 30,
      "id": "0f171162",
      "metadata": {
        "id": "0f171162"
      },
      "outputs": [],
      "source": [
        "df.Open = df.Open.fillna(0)\n",
        "df.High = df.High.fillna(0)\n",
        "df.Low = df.Low.fillna(0)\n",
        "df.Close = df.Close.fillna(0)\n",
        "df.Volume = df.Volume.fillna(0)"
      ]
    },
    {
      "cell_type": "code",
      "execution_count": 31,
      "id": "563f967d",
      "metadata": {
        "id": "563f967d"
      },
      "outputs": [],
      "source": [
        "import pandas_datareader as pdr"
      ]
    },
    {
      "cell_type": "code",
      "execution_count": 32,
      "id": "657bb64d",
      "metadata": {
        "id": "657bb64d"
      },
      "outputs": [],
      "source": [
        "df1=df.reset_index()['Close']"
      ]
    },
    {
      "cell_type": "code",
      "execution_count": 33,
      "id": "1766e694",
      "metadata": {
        "colab": {
          "base_uri": "https://localhost:8080/"
        },
        "id": "1766e694",
        "outputId": "6fc5f57c-9184-42dd-8b64-3f683aa2e9dc"
      },
      "outputs": [
        {
          "output_type": "execute_result",
          "data": {
            "text/plain": [
              "0         29.062002\n",
              "1         28.668533\n",
              "2         26.692032\n",
              "3         26.692032\n",
              "4         26.627974\n",
              "           ...     \n",
              "5012    3091.149902\n",
              "5013    3111.750000\n",
              "5014    3144.699951\n",
              "5015    3121.850098\n",
              "5016    3146.000000\n",
              "Name: Close, Length: 5017, dtype: float64"
            ]
          },
          "metadata": {},
          "execution_count": 33
        }
      ],
      "source": [
        "df1"
      ]
    },
    {
      "cell_type": "code",
      "execution_count": 34,
      "id": "61b867f1",
      "metadata": {
        "colab": {
          "base_uri": "https://localhost:8080/",
          "height": 0
        },
        "id": "61b867f1",
        "outputId": "0a252ca9-313d-4d52-83c5-d37355da33af"
      },
      "outputs": [
        {
          "output_type": "execute_result",
          "data": {
            "text/plain": [
              "[<matplotlib.lines.Line2D at 0x7f1c837fc150>]"
            ]
          },
          "metadata": {},
          "execution_count": 34
        },
        {
          "output_type": "display_data",
          "data": {
            "text/plain": [
              "<Figure size 432x288 with 1 Axes>"
            ],
            "image/png": "[encoded data removed]"
          },
          "metadata": {
            "needs_background": "light"
          }
        }
      ],
      "source": [
        "import matplotlib.pyplot as plt\n",
        "plt.plot(df1)"
      ]
    },
    {
      "cell_type": "code",
      "execution_count": 35,
      "id": "54be9f6f",
      "metadata": {
        "id": "54be9f6f"
      },
      "outputs": [],
      "source": [
        "from sklearn.preprocessing import MinMaxScaler\n",
        "scaler=MinMaxScaler(feature_range=(0,1))\n",
        "df1=scaler.fit_transform(np.array(df1).reshape(-1,1))"
      ]
    },
    {
      "cell_type": "code",
      "execution_count": 36,
      "id": "f31c1edc",
      "metadata": {
        "colab": {
          "base_uri": "https://localhost:8080/"
        },
        "id": "f31c1edc",
        "outputId": "d23f8879-2896-406d-97c5-2cbd876a7622"
      },
      "outputs": [
        {
          "output_type": "stream",
          "name": "stdout",
          "text": [
            "[[7.85285280e-04]\n",
            " [6.85382911e-04]\n",
            " [1.83546044e-04]\n",
            " ...\n",
            " [7.91850719e-01]\n",
            " [7.86049105e-01]\n",
            " [7.92180804e-01]]\n"
          ]
        }
      ],
      "source": [
        "print(df1)"
      ]
    },
    {
      "cell_type": "code",
      "execution_count": 37,
      "id": "bcd62eec",
      "metadata": {
        "id": "bcd62eec"
      },
      "outputs": [],
      "source": [
        "training_size=int(len(df1)*0.70)\n",
        "test_size=len(df1)-training_size\n",
        "train_data,test_data=df1[0:training_size,:],df1[training_size:len(df1),:1]"
      ]
    },
    {
      "cell_type": "code",
      "execution_count": 38,
      "id": "bcfc711c",
      "metadata": {
        "colab": {
          "base_uri": "https://localhost:8080/"
        },
        "id": "bcfc711c",
        "outputId": "7f89b8ea-e130-4e54-d1ee-6738efc0ec4e"
      },
      "outputs": [
        {
          "output_type": "execute_result",
          "data": {
            "text/plain": [
              "(3511, 1506)"
            ]
          },
          "metadata": {},
          "execution_count": 38
        }
      ],
      "source": [
        "training_size,test_size"
      ]
    },
    {
      "cell_type": "code",
      "execution_count": 39,
      "id": "743cde82",
      "metadata": {
        "colab": {
          "base_uri": "https://localhost:8080/"
        },
        "id": "743cde82",
        "outputId": "6def9c2c-8a31-487e-b8f2-043dcb35aa6b"
      },
      "outputs": [
        {
          "output_type": "execute_result",
          "data": {
            "text/plain": [
              "array([[7.85285280e-04],\n",
              "       [6.85382911e-04],\n",
              "       [1.83546044e-04],\n",
              "       ...,\n",
              "       [2.57480943e-01],\n",
              "       [2.57310756e-01],\n",
              "       [2.61251841e-01]])"
            ]
          },
          "metadata": {},
          "execution_count": 39
        }
      ],
      "source": [
        "train_data"
      ]
    },
    {
      "cell_type": "code",
      "execution_count": 40,
      "id": "af90128d",
      "metadata": {
        "id": "af90128d"
      },
      "outputs": [],
      "source": [
        "import numpy\n",
        "# convert an array of values into a dataset matrix\n",
        "def create_dataset(dataset, time_step=1):\n",
        "\tdataX, dataY = [], []\n",
        "\tfor i in range(len(dataset)-time_step-1):\n",
        "\t\ta = dataset[i:(i+time_step), 0]   ###i=0, 0,1,2,3-----99   100 \n",
        "\t\tdataX.append(a)\n",
        "\t\tdataY.append(dataset[i + time_step, 0])\n",
        "\treturn numpy.array(dataX), numpy.array(dataY)"
      ]
    },
    {
      "cell_type": "code",
      "execution_count": 41,
      "id": "ec056994",
      "metadata": {
        "id": "ec056994"
      },
      "outputs": [],
      "source": [
        "time_step = 100\n",
        "X_train, y_train = create_dataset(train_data, time_step)\n",
        "X_test, ytest = create_dataset(test_data, time_step)"
      ]
    },
    {
      "cell_type": "code",
      "execution_count": 42,
      "id": "360c632d",
      "metadata": {
        "colab": {
          "base_uri": "https://localhost:8080/"
        },
        "id": "360c632d",
        "outputId": "17af0dcf-961a-41a1-9501-84944af4edaf"
      },
      "outputs": [
        {
          "output_type": "stream",
          "name": "stdout",
          "text": [
            "(3410, 100)\n",
            "(3410,)\n"
          ]
        },
        {
          "output_type": "execute_result",
          "data": {
            "text/plain": [
              "(None, None)"
            ]
          },
          "metadata": {},
          "execution_count": 42
        }
      ],
      "source": [
        "print(X_train.shape), print(y_train.shape)"
      ]
    },
    {
      "cell_type": "code",
      "execution_count": 43,
      "id": "6fef42a8",
      "metadata": {
        "colab": {
          "base_uri": "https://localhost:8080/"
        },
        "id": "6fef42a8",
        "outputId": "cc8deeb3-6933-4f41-b5a8-8a1e3463220d"
      },
      "outputs": [
        {
          "output_type": "stream",
          "name": "stdout",
          "text": [
            "(1405, 100)\n",
            "(1405,)\n"
          ]
        },
        {
          "output_type": "execute_result",
          "data": {
            "text/plain": [
              "(None, None)"
            ]
          },
          "metadata": {},
          "execution_count": 43
        }
      ],
      "source": [
        "print(X_test.shape), print(ytest.shape)"
      ]
    },
    {
      "cell_type": "code",
      "execution_count": 44,
      "id": "37efc2b1",
      "metadata": {
        "id": "37efc2b1"
      },
      "outputs": [],
      "source": [
        "X_train =X_train.reshape(X_train.shape[0],X_train.shape[1] , 1)\n",
        "X_test = X_test.reshape(X_test.shape[0],X_test.shape[1] , 1)"
      ]
    },
    {
      "cell_type": "code",
      "execution_count": 45,
      "id": "34b5c005",
      "metadata": {
        "colab": {
          "base_uri": "https://localhost:8080/"
        },
        "id": "34b5c005",
        "outputId": "1e1548a1-2f09-46f2-f496-8fee19c13a70"
      },
      "outputs": [
        {
          "output_type": "stream",
          "name": "stdout",
          "text": [
            "Looking in indexes: https://pypi.org/simple, https://us-python.pkg.dev/colab-wheels/public/simple/\n",
            "Requirement already satisfied: tensorflow in /usr/local/lib/python3.7/dist-packages (2.9.2)\n",
            "Requirement already satisfied: protobuf<3.20,>=3.9.2 in /usr/local/lib/python3.7/dist-packages (from tensorflow) (3.17.3)\n",
            "Requirement already satisfied: keras<2.10.0,>=2.9.0rc0 in /usr/local/lib/python3.7/dist-packages (from tensorflow) (2.9.0)\n",
            "Requirement already satisfied: opt-einsum>=2.3.2 in /usr/local/lib/python3.7/dist-packages (from tensorflow) (3.3.0)\n",
            "Requirement already satisfied: numpy>=1.20 in /usr/local/lib/python3.7/dist-packages (from tensorflow) (1.21.6)\n",
            "Requirement already satisfied: setuptools in /usr/local/lib/python3.7/dist-packages (from tensorflow) (57.4.0)\n",
            "Requirement already satisfied: tensorflow-io-gcs-filesystem>=0.23.1 in /usr/local/lib/python3.7/dist-packages (from tensorflow) (0.27.0)\n",
            "Requirement already satisfied: gast<=0.4.0,>=0.2.1 in /usr/local/lib/python3.7/dist-packages (from tensorflow) (0.4.0)\n",
            "Requirement already satisfied: tensorboard<2.10,>=2.9 in /usr/local/lib/python3.7/dist-packages (from tensorflow) (2.9.1)\n",
            "Requirement already satisfied: h5py>=2.9.0 in /usr/local/lib/python3.7/dist-packages (from tensorflow) (3.1.0)\n",
            "Requirement already satisfied: keras-preprocessing>=1.1.1 in /usr/local/lib/python3.7/dist-packages (from tensorflow) (1.1.2)\n",
            "Requirement already satisfied: termcolor>=1.1.0 in /usr/local/lib/python3.7/dist-packages (from tensorflow) (2.0.1)\n",
            "Requirement already satisfied: typing-extensions>=3.6.6 in /usr/local/lib/python3.7/dist-packages (from tensorflow) (4.1.1)\n",
            "Requirement already satisfied: tensorflow-estimator<2.10.0,>=2.9.0rc0 in /usr/local/lib/python3.7/dist-packages (from tensorflow) (2.9.0)\n",
            "Requirement already satisfied: google-pasta>=0.1.1 in /usr/local/lib/python3.7/dist-packages (from tensorflow) (0.2.0)\n",
            "Requirement already satisfied: wrapt>=1.11.0 in /usr/local/lib/python3.7/dist-packages (from tensorflow) (1.14.1)\n",
            "Requirement already satisfied: grpcio<2.0,>=1.24.3 in /usr/local/lib/python3.7/dist-packages (from tensorflow) (1.49.1)\n",
            "Requirement already satisfied: flatbuffers<2,>=1.12 in /usr/local/lib/python3.7/dist-packages (from tensorflow) (1.12)\n",
            "Requirement already satisfied: six>=1.12.0 in /usr/local/lib/python3.7/dist-packages (from tensorflow) (1.15.0)\n",
            "Requirement already satisfied: absl-py>=1.0.0 in /usr/local/lib/python3.7/dist-packages (from tensorflow) (1.3.0)\n",
            "Requirement already satisfied: packaging in /usr/local/lib/python3.7/dist-packages (from tensorflow) (21.3)\n",
            "Requirement already satisfied: astunparse>=1.6.0 in /usr/local/lib/python3.7/dist-packages (from tensorflow) (1.6.3)\n",
            "Requirement already satisfied: libclang>=13.0.0 in /usr/local/lib/python3.7/dist-packages (from tensorflow) (14.0.6)\n",
            "Requirement already satisfied: wheel<1.0,>=0.23.0 in /usr/local/lib/python3.7/dist-packages (from astunparse>=1.6.0->tensorflow) (0.37.1)\n",
            "Requirement already satisfied: cached-property in /usr/local/lib/python3.7/dist-packages (from h5py>=2.9.0->tensorflow) (1.5.2)\n",
            "Requirement already satisfied: werkzeug>=1.0.1 in /usr/local/lib/python3.7/dist-packages (from tensorboard<2.10,>=2.9->tensorflow) (1.0.1)\n",
            "Requirement already satisfied: requests<3,>=2.21.0 in /usr/local/lib/python3.7/dist-packages (from tensorboard<2.10,>=2.9->tensorflow) (2.28.1)\n",
            "Requirement already satisfied: google-auth<3,>=1.6.3 in /usr/local/lib/python3.7/dist-packages (from tensorboard<2.10,>=2.9->tensorflow) (1.35.0)\n",
            "Requirement already satisfied: tensorboard-plugin-wit>=1.6.0 in /usr/local/lib/python3.7/dist-packages (from tensorboard<2.10,>=2.9->tensorflow) (1.8.1)\n",
            "Requirement already satisfied: markdown>=2.6.8 in /usr/local/lib/python3.7/dist-packages (from tensorboard<2.10,>=2.9->tensorflow) (3.4.1)\n",
            "Requirement already satisfied: google-auth-oauthlib<0.5,>=0.4.1 in /usr/local/lib/python3.7/dist-packages (from tensorboard<2.10,>=2.9->tensorflow) (0.4.6)\n",
            "Requirement already satisfied: tensorboard-data-server<0.7.0,>=0.6.0 in /usr/local/lib/python3.7/dist-packages (from tensorboard<2.10,>=2.9->tensorflow) (0.6.1)\n",
            "Requirement already satisfied: cachetools<5.0,>=2.0.0 in /usr/local/lib/python3.7/dist-packages (from google-auth<3,>=1.6.3->tensorboard<2.10,>=2.9->tensorflow) (4.2.4)\n",
            "Requirement already satisfied: rsa<5,>=3.1.4 in /usr/local/lib/python3.7/dist-packages (from google-auth<3,>=1.6.3->tensorboard<2.10,>=2.9->tensorflow) (4.9)\n",
            "Requirement already satisfied: pyasn1-modules>=0.2.1 in /usr/local/lib/python3.7/dist-packages (from google-auth<3,>=1.6.3->tensorboard<2.10,>=2.9->tensorflow) (0.2.8)\n",
            "Requirement already satisfied: requests-oauthlib>=0.7.0 in /usr/local/lib/python3.7/dist-packages (from google-auth-oauthlib<0.5,>=0.4.1->tensorboard<2.10,>=2.9->tensorflow) (1.3.1)\n",
            "Requirement already satisfied: importlib-metadata>=4.4 in /usr/local/lib/python3.7/dist-packages (from markdown>=2.6.8->tensorboard<2.10,>=2.9->tensorflow) (4.13.0)\n",
            "Requirement already satisfied: zipp>=0.5 in /usr/local/lib/python3.7/dist-packages (from importlib-metadata>=4.4->markdown>=2.6.8->tensorboard<2.10,>=2.9->tensorflow) (3.9.0)\n",
            "Requirement already satisfied: pyasn1<0.5.0,>=0.4.6 in /usr/local/lib/python3.7/dist-packages (from pyasn1-modules>=0.2.1->google-auth<3,>=1.6.3->tensorboard<2.10,>=2.9->tensorflow) (0.4.8)\n",
            "Requirement already satisfied: certifi>=2017.4.17 in /usr/local/lib/python3.7/dist-packages (from requests<3,>=2.21.0->tensorboard<2.10,>=2.9->tensorflow) (2022.9.24)\n",
            "Requirement already satisfied: urllib3<1.27,>=1.21.1 in /usr/local/lib/python3.7/dist-packages (from requests<3,>=2.21.0->tensorboard<2.10,>=2.9->tensorflow) (1.24.3)\n",
            "Requirement already satisfied: idna<4,>=2.5 in /usr/local/lib/python3.7/dist-packages (from requests<3,>=2.21.0->tensorboard<2.10,>=2.9->tensorflow) (2.10)\n",
            "Requirement already satisfied: charset-normalizer<3,>=2 in /usr/local/lib/python3.7/dist-packages (from requests<3,>=2.21.0->tensorboard<2.10,>=2.9->tensorflow) (2.1.1)\n",
            "Requirement already satisfied: oauthlib>=3.0.0 in /usr/local/lib/python3.7/dist-packages (from requests-oauthlib>=0.7.0->google-auth-oauthlib<0.5,>=0.4.1->tensorboard<2.10,>=2.9->tensorflow) (3.2.1)\n",
            "Requirement already satisfied: pyparsing!=3.0.5,>=2.0.2 in /usr/local/lib/python3.7/dist-packages (from packaging->tensorflow) (3.0.9)\n"
          ]
        }
      ],
      "source": [
        "!pip install tensorflow"
      ]
    },
    {
      "cell_type": "code",
      "execution_count": 46,
      "id": "f9cf2061",
      "metadata": {
        "id": "f9cf2061"
      },
      "outputs": [],
      "source": [
        "from tensorflow.keras.models import Sequential\n",
        "from tensorflow.keras.layers import Dense\n",
        "from tensorflow.keras.layers import LSTM"
      ]
    },
    {
      "cell_type": "markdown",
      "id": "b7ffaaca",
      "metadata": {
        "id": "b7ffaaca"
      },
      "source": [
        "## LSTM Model for creation of Predection"
      ]
    },
    {
      "cell_type": "code",
      "execution_count": 47,
      "id": "8627eb16",
      "metadata": {
        "id": "8627eb16"
      },
      "outputs": [],
      "source": [
        "model=Sequential()\n",
        "model.add(LSTM(50,return_sequences=True,input_shape=(100,1)))\n",
        "model.add(LSTM(50,return_sequences=True))\n",
        "model.add(LSTM(50))\n",
        "model.add(Dense(1))\n",
        "model.compile(loss='mean_squared_error',optimizer='adam')"
      ]
    },
    {
      "cell_type": "markdown",
      "id": "2eef9922",
      "metadata": {
        "id": "2eef9922"
      },
      "source": [
        "## Model Summary "
      ]
    },
    {
      "cell_type": "code",
      "execution_count": 48,
      "id": "a3cf1d2d",
      "metadata": {
        "colab": {
          "base_uri": "https://localhost:8080/"
        },
        "id": "a3cf1d2d",
        "outputId": "bd444168-e86f-4d40-fa2f-e4656ed5b514"
      },
      "outputs": [
        {
          "output_type": "stream",
          "name": "stdout",
          "text": [
            "Model: \"sequential\"\n",
            "_________________________________________________________________\n",
            " Layer (type)                Output Shape              Param #   \n",
            "=================================================================\n",
            " lstm (LSTM)                 (None, 100, 50)           10400     \n",
            "                                                                 \n",
            " lstm_1 (LSTM)               (None, 100, 50)           20200     \n",
            "                                                                 \n",
            " lstm_2 (LSTM)               (None, 50)                20200     \n",
            "                                                                 \n",
            " dense (Dense)               (None, 1)                 51        \n",
            "                                                                 \n",
            "=================================================================\n",
            "Total params: 50,851\n",
            "Trainable params: 50,851\n",
            "Non-trainable params: 0\n",
            "_________________________________________________________________\n"
          ]
        }
      ],
      "source": [
        "model.summary()"
      ]
    },
    {
      "cell_type": "code",
      "execution_count": 49,
      "id": "482e5d0b",
      "metadata": {
        "colab": {
          "base_uri": "https://localhost:8080/"
        },
        "id": "482e5d0b",
        "outputId": "2b567bf8-731c-4c43-c97d-af82bf9b829c"
      },
      "outputs": [
        {
          "output_type": "stream",
          "name": "stdout",
          "text": [
            "Epoch 1/100\n",
            "54/54 [==============================] - 26s 381ms/step - loss: 0.0016 - val_loss: 0.0011\n",
            "Epoch 2/100\n",
            "54/54 [==============================] - 11s 199ms/step - loss: 3.8340e-05 - val_loss: 0.0018\n",
            "Epoch 3/100\n",
            "54/54 [==============================] - 10s 191ms/step - loss: 3.2441e-05 - val_loss: 0.0025\n",
            "Epoch 4/100\n",
            "54/54 [==============================] - 10s 192ms/step - loss: 3.1345e-05 - val_loss: 0.0029\n",
            "Epoch 5/100\n",
            "54/54 [==============================] - 10s 193ms/step - loss: 3.2315e-05 - val_loss: 0.0025\n",
            "Epoch 6/100\n",
            "54/54 [==============================] - 10s 191ms/step - loss: 3.3845e-05 - val_loss: 0.0040\n",
            "Epoch 7/100\n",
            "54/54 [==============================] - 10s 191ms/step - loss: 3.1409e-05 - val_loss: 0.0033\n",
            "Epoch 8/100\n",
            "54/54 [==============================] - 11s 205ms/step - loss: 3.2795e-05 - val_loss: 0.0036\n",
            "Epoch 9/100\n",
            "54/54 [==============================] - 12s 214ms/step - loss: 3.2253e-05 - val_loss: 0.0035\n",
            "Epoch 10/100\n",
            "54/54 [==============================] - 11s 196ms/step - loss: 2.9312e-05 - val_loss: 0.0031\n",
            "Epoch 11/100\n",
            "54/54 [==============================] - 12s 217ms/step - loss: 3.0976e-05 - val_loss: 0.0047\n",
            "Epoch 12/100\n",
            "54/54 [==============================] - 10s 194ms/step - loss: 3.0673e-05 - val_loss: 0.0029\n",
            "Epoch 13/100\n",
            "54/54 [==============================] - 10s 192ms/step - loss: 2.8867e-05 - val_loss: 0.0031\n",
            "Epoch 14/100\n",
            "54/54 [==============================] - 10s 192ms/step - loss: 3.4089e-05 - val_loss: 0.0035\n",
            "Epoch 15/100\n",
            "54/54 [==============================] - 10s 192ms/step - loss: 2.9192e-05 - val_loss: 0.0022\n",
            "Epoch 16/100\n",
            "54/54 [==============================] - 10s 191ms/step - loss: 3.2106e-05 - val_loss: 0.0021\n",
            "Epoch 17/100\n",
            "54/54 [==============================] - 10s 193ms/step - loss: 3.0891e-05 - val_loss: 0.0030\n",
            "Epoch 18/100\n",
            "54/54 [==============================] - 10s 193ms/step - loss: 2.8822e-05 - val_loss: 0.0027\n",
            "Epoch 19/100\n",
            "54/54 [==============================] - 10s 190ms/step - loss: 2.6520e-05 - val_loss: 0.0029\n",
            "Epoch 20/100\n",
            "54/54 [==============================] - 10s 194ms/step - loss: 2.6982e-05 - val_loss: 0.0020\n",
            "Epoch 21/100\n",
            "54/54 [==============================] - 11s 195ms/step - loss: 2.8733e-05 - val_loss: 0.0018\n",
            "Epoch 22/100\n",
            "54/54 [==============================] - 10s 194ms/step - loss: 2.5998e-05 - val_loss: 0.0019\n",
            "Epoch 23/100\n",
            "54/54 [==============================] - 10s 190ms/step - loss: 2.5597e-05 - val_loss: 0.0024\n",
            "Epoch 24/100\n",
            "54/54 [==============================] - 10s 191ms/step - loss: 2.4671e-05 - val_loss: 0.0020\n",
            "Epoch 25/100\n",
            "54/54 [==============================] - 10s 191ms/step - loss: 2.5488e-05 - val_loss: 0.0021\n",
            "Epoch 26/100\n",
            "54/54 [==============================] - 10s 194ms/step - loss: 2.5805e-05 - val_loss: 0.0018\n",
            "Epoch 27/100\n",
            "54/54 [==============================] - 10s 194ms/step - loss: 3.1656e-05 - val_loss: 0.0022\n",
            "Epoch 28/100\n",
            "54/54 [==============================] - 10s 192ms/step - loss: 2.4317e-05 - val_loss: 0.0019\n",
            "Epoch 29/100\n",
            "54/54 [==============================] - 10s 192ms/step - loss: 2.6251e-05 - val_loss: 0.0018\n",
            "Epoch 30/100\n",
            "54/54 [==============================] - 10s 190ms/step - loss: 2.2256e-05 - val_loss: 0.0028\n",
            "Epoch 31/100\n",
            "54/54 [==============================] - 10s 192ms/step - loss: 2.1752e-05 - val_loss: 0.0016\n",
            "Epoch 32/100\n",
            "54/54 [==============================] - 10s 192ms/step - loss: 2.0418e-05 - val_loss: 0.0026\n",
            "Epoch 33/100\n",
            "54/54 [==============================] - 11s 212ms/step - loss: 2.2357e-05 - val_loss: 0.0018\n",
            "Epoch 34/100\n",
            "54/54 [==============================] - 10s 194ms/step - loss: 2.2782e-05 - val_loss: 0.0016\n",
            "Epoch 35/100\n",
            "54/54 [==============================] - 10s 191ms/step - loss: 2.0342e-05 - val_loss: 0.0036\n",
            "Epoch 36/100\n",
            "54/54 [==============================] - 10s 192ms/step - loss: 2.7399e-05 - val_loss: 0.0020\n",
            "Epoch 37/100\n",
            "54/54 [==============================] - 10s 191ms/step - loss: 2.2260e-05 - val_loss: 0.0025\n",
            "Epoch 38/100\n",
            "54/54 [==============================] - 10s 191ms/step - loss: 2.2088e-05 - val_loss: 0.0026\n",
            "Epoch 39/100\n",
            "54/54 [==============================] - 10s 192ms/step - loss: 2.0522e-05 - val_loss: 0.0026\n",
            "Epoch 40/100\n",
            "54/54 [==============================] - 10s 192ms/step - loss: 2.2579e-05 - val_loss: 0.0016\n",
            "Epoch 41/100\n",
            "54/54 [==============================] - 10s 191ms/step - loss: 1.9777e-05 - val_loss: 0.0022\n",
            "Epoch 42/100\n",
            "54/54 [==============================] - 10s 191ms/step - loss: 2.1764e-05 - val_loss: 0.0043\n",
            "Epoch 43/100\n",
            "54/54 [==============================] - 10s 194ms/step - loss: 1.9838e-05 - val_loss: 0.0022\n",
            "Epoch 44/100\n",
            "54/54 [==============================] - 10s 194ms/step - loss: 1.8653e-05 - val_loss: 0.0015\n",
            "Epoch 45/100\n",
            "54/54 [==============================] - 10s 193ms/step - loss: 1.8842e-05 - val_loss: 0.0018\n",
            "Epoch 46/100\n",
            "54/54 [==============================] - 10s 194ms/step - loss: 1.9974e-05 - val_loss: 0.0019\n",
            "Epoch 47/100\n",
            "54/54 [==============================] - 10s 191ms/step - loss: 2.1183e-05 - val_loss: 0.0037\n",
            "Epoch 48/100\n",
            "54/54 [==============================] - 10s 193ms/step - loss: 1.9052e-05 - val_loss: 0.0019\n",
            "Epoch 49/100\n",
            "54/54 [==============================] - 10s 192ms/step - loss: 1.8427e-05 - val_loss: 0.0040\n",
            "Epoch 50/100\n",
            "54/54 [==============================] - 10s 191ms/step - loss: 1.6988e-05 - val_loss: 0.0022\n",
            "Epoch 51/100\n",
            "54/54 [==============================] - 10s 193ms/step - loss: 1.8614e-05 - val_loss: 0.0015\n",
            "Epoch 52/100\n",
            "54/54 [==============================] - 10s 191ms/step - loss: 2.1449e-05 - val_loss: 0.0025\n",
            "Epoch 53/100\n",
            "54/54 [==============================] - 10s 191ms/step - loss: 1.8016e-05 - val_loss: 0.0020\n",
            "Epoch 54/100\n",
            "54/54 [==============================] - 10s 191ms/step - loss: 1.7900e-05 - val_loss: 0.0015\n",
            "Epoch 55/100\n",
            "54/54 [==============================] - 11s 214ms/step - loss: 1.9864e-05 - val_loss: 0.0023\n",
            "Epoch 56/100\n",
            "54/54 [==============================] - 10s 192ms/step - loss: 1.6539e-05 - val_loss: 0.0021\n",
            "Epoch 57/100\n",
            "54/54 [==============================] - 10s 192ms/step - loss: 1.7253e-05 - val_loss: 8.7124e-04\n",
            "Epoch 58/100\n",
            "54/54 [==============================] - 11s 195ms/step - loss: 2.1512e-05 - val_loss: 0.0027\n",
            "Epoch 59/100\n",
            "54/54 [==============================] - 10s 192ms/step - loss: 1.7949e-05 - val_loss: 0.0033\n",
            "Epoch 60/100\n",
            "54/54 [==============================] - 10s 192ms/step - loss: 1.6626e-05 - val_loss: 0.0017\n",
            "Epoch 61/100\n",
            "54/54 [==============================] - 10s 192ms/step - loss: 1.5071e-05 - val_loss: 0.0012\n",
            "Epoch 62/100\n",
            "54/54 [==============================] - 10s 193ms/step - loss: 1.5685e-05 - val_loss: 0.0027\n",
            "Epoch 63/100\n",
            "54/54 [==============================] - 10s 190ms/step - loss: 1.7338e-05 - val_loss: 0.0011\n",
            "Epoch 64/100\n",
            "54/54 [==============================] - 10s 191ms/step - loss: 1.5973e-05 - val_loss: 0.0012\n",
            "Epoch 65/100\n",
            "54/54 [==============================] - 10s 191ms/step - loss: 1.6123e-05 - val_loss: 0.0016\n",
            "Epoch 66/100\n",
            "54/54 [==============================] - 11s 196ms/step - loss: 1.4877e-05 - val_loss: 0.0024\n",
            "Epoch 67/100\n",
            "54/54 [==============================] - 10s 193ms/step - loss: 1.3482e-05 - val_loss: 0.0021\n",
            "Epoch 68/100\n",
            "54/54 [==============================] - 10s 191ms/step - loss: 1.4233e-05 - val_loss: 0.0010\n",
            "Epoch 69/100\n",
            "54/54 [==============================] - 10s 192ms/step - loss: 2.2135e-05 - val_loss: 0.0016\n",
            "Epoch 70/100\n",
            "54/54 [==============================] - 10s 192ms/step - loss: 1.3166e-05 - val_loss: 0.0028\n",
            "Epoch 71/100\n",
            "54/54 [==============================] - 10s 191ms/step - loss: 1.6823e-05 - val_loss: 0.0018\n",
            "Epoch 72/100\n",
            "54/54 [==============================] - 10s 193ms/step - loss: 1.5869e-05 - val_loss: 0.0020\n",
            "Epoch 73/100\n",
            "54/54 [==============================] - 11s 197ms/step - loss: 1.2809e-05 - val_loss: 0.0014\n",
            "Epoch 74/100\n",
            "54/54 [==============================] - 10s 193ms/step - loss: 1.3982e-05 - val_loss: 0.0017\n",
            "Epoch 75/100\n",
            "54/54 [==============================] - 10s 193ms/step - loss: 1.4716e-05 - val_loss: 0.0027\n",
            "Epoch 76/100\n",
            "54/54 [==============================] - 10s 192ms/step - loss: 1.5253e-05 - val_loss: 0.0010\n",
            "Epoch 77/100\n",
            "54/54 [==============================] - 12s 214ms/step - loss: 1.4186e-05 - val_loss: 0.0024\n",
            "Epoch 78/100\n",
            "54/54 [==============================] - 11s 197ms/step - loss: 1.1360e-05 - val_loss: 0.0016\n",
            "Epoch 79/100\n",
            "54/54 [==============================] - 10s 191ms/step - loss: 1.1165e-05 - val_loss: 0.0014\n",
            "Epoch 80/100\n",
            "54/54 [==============================] - 10s 191ms/step - loss: 1.1289e-05 - val_loss: 0.0021\n",
            "Epoch 81/100\n",
            "54/54 [==============================] - 10s 193ms/step - loss: 1.5139e-05 - val_loss: 0.0019\n",
            "Epoch 82/100\n",
            "54/54 [==============================] - 10s 193ms/step - loss: 1.1778e-05 - val_loss: 0.0021\n",
            "Epoch 83/100\n",
            "54/54 [==============================] - 10s 192ms/step - loss: 1.0177e-05 - val_loss: 0.0018\n",
            "Epoch 84/100\n",
            "54/54 [==============================] - 10s 190ms/step - loss: 1.0180e-05 - val_loss: 0.0015\n",
            "Epoch 85/100\n",
            "54/54 [==============================] - 10s 191ms/step - loss: 1.2576e-05 - val_loss: 0.0032\n",
            "Epoch 86/100\n",
            "54/54 [==============================] - 10s 190ms/step - loss: 1.0971e-05 - val_loss: 0.0020\n",
            "Epoch 87/100\n",
            "54/54 [==============================] - 10s 191ms/step - loss: 1.1099e-05 - val_loss: 0.0013\n",
            "Epoch 88/100\n",
            "54/54 [==============================] - 10s 192ms/step - loss: 1.0483e-05 - val_loss: 0.0025\n",
            "Epoch 89/100\n",
            "54/54 [==============================] - 10s 192ms/step - loss: 9.8610e-06 - val_loss: 0.0018\n",
            "Epoch 90/100\n",
            "54/54 [==============================] - 10s 192ms/step - loss: 1.2569e-05 - val_loss: 0.0022\n",
            "Epoch 91/100\n",
            "54/54 [==============================] - 10s 194ms/step - loss: 1.0463e-05 - val_loss: 0.0018\n",
            "Epoch 92/100\n",
            "54/54 [==============================] - 10s 191ms/step - loss: 9.3856e-06 - val_loss: 0.0016\n",
            "Epoch 93/100\n",
            "54/54 [==============================] - 10s 190ms/step - loss: 8.5562e-06 - val_loss: 0.0016\n",
            "Epoch 94/100\n",
            "54/54 [==============================] - 11s 196ms/step - loss: 8.3488e-06 - val_loss: 0.0018\n",
            "Epoch 95/100\n",
            "54/54 [==============================] - 10s 195ms/step - loss: 8.9392e-06 - val_loss: 0.0022\n",
            "Epoch 96/100\n",
            "54/54 [==============================] - 10s 193ms/step - loss: 8.9723e-06 - val_loss: 0.0017\n",
            "Epoch 97/100\n",
            "54/54 [==============================] - 10s 192ms/step - loss: 1.0159e-05 - val_loss: 0.0027\n",
            "Epoch 98/100\n",
            "54/54 [==============================] - 10s 193ms/step - loss: 1.1335e-05 - val_loss: 0.0018\n",
            "Epoch 99/100\n",
            "54/54 [==============================] - 11s 212ms/step - loss: 8.8070e-06 - val_loss: 0.0018\n",
            "Epoch 100/100\n",
            "54/54 [==============================] - 10s 192ms/step - loss: 7.7010e-06 - val_loss: 0.0018\n"
          ]
        },
        {
          "output_type": "execute_result",
          "data": {
            "text/plain": [
              "<keras.callbacks.History at 0x7f1c254c7e50>"
            ]
          },
          "metadata": {},
          "execution_count": 49
        }
      ],
      "source": [
        "model.fit(X_train,y_train,validation_data=(X_test,ytest),epochs=100,batch_size=64,verbose=1)"
      ]
    },
    {
      "cell_type": "code",
      "execution_count": 50,
      "id": "c9f40d88",
      "metadata": {
        "id": "c9f40d88"
      },
      "outputs": [],
      "source": [
        "import tensorflow as tf"
      ]
    },
    {
      "cell_type": "code",
      "execution_count": 51,
      "id": "53a32d75",
      "metadata": {
        "colab": {
          "base_uri": "https://localhost:8080/"
        },
        "id": "53a32d75",
        "outputId": "0c7b3267-8a70-4b3d-8190-9e0e97ffdac3"
      },
      "outputs": [
        {
          "output_type": "stream",
          "name": "stdout",
          "text": [
            "107/107 [==============================] - 5s 34ms/step\n",
            "44/44 [==============================] - 2s 34ms/step\n"
          ]
        }
      ],
      "source": [
        "train_predict=model.predict(X_train)\n",
        "test_predict=model.predict(X_test)"
      ]
    },
    {
      "cell_type": "code",
      "execution_count": 52,
      "id": "5c84af9f",
      "metadata": {
        "id": "5c84af9f"
      },
      "outputs": [],
      "source": [
        "train_predict=scaler.inverse_transform(train_predict)\n",
        "test_predict=scaler.inverse_transform(test_predict)"
      ]
    },
    {
      "cell_type": "code",
      "execution_count": 53,
      "id": "8afe4a5d",
      "metadata": {
        "colab": {
          "base_uri": "https://localhost:8080/"
        },
        "id": "8afe4a5d",
        "outputId": "6138066a-1180-4a44-9951-2a5dd73756ed"
      },
      "outputs": [
        {
          "output_type": "execute_result",
          "data": {
            "text/plain": [
              "560.5584393363998"
            ]
          },
          "metadata": {},
          "execution_count": 53
        }
      ],
      "source": [
        "import math\n",
        "from sklearn.metrics import mean_squared_error\n",
        "math.sqrt(mean_squared_error(y_train,train_predict))"
      ]
    },
    {
      "cell_type": "code",
      "execution_count": 54,
      "id": "b7ffc66b",
      "metadata": {
        "colab": {
          "base_uri": "https://localhost:8080/"
        },
        "id": "b7ffc66b",
        "outputId": "17630c93-1c4d-4105-cc89-de044ef117ad"
      },
      "outputs": [
        {
          "output_type": "execute_result",
          "data": {
            "text/plain": [
              "2263.887012815189"
            ]
          },
          "metadata": {},
          "execution_count": 54
        }
      ],
      "source": [
        "math.sqrt(mean_squared_error(ytest,test_predict))"
      ]
    },
    {
      "cell_type": "markdown",
      "id": "d6a6e25f",
      "metadata": {
        "id": "d6a6e25f"
      },
      "source": [
        "### Plotting \n",
        "# shift train predictions for plotting"
      ]
    },
    {
      "cell_type": "code",
      "execution_count": 55,
      "id": "ad110bde",
      "metadata": {
        "colab": {
          "base_uri": "https://localhost:8080/",
          "height": 0
        },
        "id": "ad110bde",
        "outputId": "5d1bcd2e-29f7-4ec9-a482-396cab8315bf"
      },
      "outputs": [
        {
          "output_type": "display_data",
          "data": {
            "text/plain": [
              "<Figure size 432x288 with 1 Axes>"
            ],
            "image/png": "[encoded data removed]"
          },
          "metadata": {
            "needs_background": "light"
          }
        }
      ],
      "source": [
        "\n",
        "look_back=100\n",
        "trainPredictPlot = numpy.empty_like(df1)\n",
        "trainPredictPlot[:, :] = np.nan\n",
        "trainPredictPlot[look_back:len(train_predict)+look_back, :] = train_predict\n",
        "# shift test predictions for plotting\n",
        "testPredictPlot = numpy.empty_like(df1)\n",
        "testPredictPlot[:, :] = numpy.nan\n",
        "testPredictPlot[len(train_predict)+(look_back*2)+1:len(df1)-1, :] = test_predict\n",
        "# plot baseline and predictions\n",
        "plt.plot(scaler.inverse_transform(df1))\n",
        "plt.plot(trainPredictPlot)\n",
        "plt.plot(testPredictPlot)\n",
        "plt.show()"
      ]
    },
    {
      "cell_type": "code",
      "execution_count": 56,
      "id": "053db224",
      "metadata": {
        "id": "053db224"
      },
      "outputs": [],
      "source": [
        "len(test_data)\n",
        "a = len(test_data)-100"
      ]
    },
    {
      "cell_type": "code",
      "execution_count": 57,
      "id": "7df970f2",
      "metadata": {
        "colab": {
          "base_uri": "https://localhost:8080/"
        },
        "id": "7df970f2",
        "outputId": "1c737b10-529c-4194-e760-92812abc9201"
      },
      "outputs": [
        {
          "output_type": "execute_result",
          "data": {
            "text/plain": [
              "(1, 100)"
            ]
          },
          "metadata": {},
          "execution_count": 57
        }
      ],
      "source": [
        "x_input=test_data[a:].reshape(1,-1)\n",
        "x_input.shape"
      ]
    },
    {
      "cell_type": "code",
      "execution_count": 58,
      "id": "a4040f97",
      "metadata": {
        "id": "a4040f97"
      },
      "outputs": [],
      "source": [
        "temp_input=list(x_input)\n",
        "temp_input=temp_input[0].tolist()"
      ]
    },
    {
      "cell_type": "code",
      "execution_count": 59,
      "id": "e5329362",
      "metadata": {
        "scrolled": true,
        "colab": {
          "base_uri": "https://localhost:8080/"
        },
        "id": "e5329362",
        "outputId": "f9b10315-5102-448f-a659-db580ed64462"
      },
      "outputs": [
        {
          "output_type": "execute_result",
          "data": {
            "text/plain": [
              "[0.8459252493245147,\n",
              " 0.8431721899048442,\n",
              " 0.8408609787625567,\n",
              " 0.8579858848588895,\n",
              " 0.8623175848621897,\n",
              " 0.8599939141935619,\n",
              " 0.8427553846555285,\n",
              " 0.8532247961045466,\n",
              " 0.8590215132497758,\n",
              " 0.8420481050757108,\n",
              " 0.8066112905452779,\n",
              " 0.8043253703818305,\n",
              " 0.8032519294980706,\n",
              " 0.78701102989497,\n",
              " 0.7735990626480603,\n",
              " 0.7795346942138304,\n",
              " 0.8046790101717394,\n",
              " 0.8074573605702499,\n",
              " 0.8291413375286708,\n",
              " 0.8251758608170062,\n",
              " 0.8306315216740534,\n",
              " 0.8315029446655587,\n",
              " 0.8245191012071755,\n",
              " 0.8186087606202456,\n",
              " 0.8307326236017206,\n",
              " 0.8105136017975355,\n",
              " 0.8057777420343395,\n",
              " 0.817004891045469,\n",
              " 0.8238498200833113,\n",
              " 0.818192017358623,\n",
              " 0.7798883959914324,\n",
              " 0.7725382672537203,\n",
              " 0.7609322494615351,\n",
              " 0.7528283503740788,\n",
              " 0.7517774110229632,\n",
              " 0.7692260788410652,\n",
              " 0.7719484543525841,\n",
              " 0.7948799336373704,\n",
              " 0.7980455211555234,\n",
              " 0.7964500199193336,\n",
              " 0.7953737276016848,\n",
              " 0.7824961562581587,\n",
              " 0.8009705344362293,\n",
              " 0.8191155720001394,\n",
              " 0.8295999224832274,\n",
              " 0.8288149103360924,\n",
              " 0.8270421862849422,\n",
              " 0.8391220380042199,\n",
              " 0.8430346392135546,\n",
              " 0.8455924993872262,\n",
              " 0.8479729507828578,\n",
              " 0.8428574163985941,\n",
              " 0.8601414449034624,\n",
              " 0.854835980227125,\n",
              " 0.8525946912028072,\n",
              " 0.8547219848592649,\n",
              " 0.8496950308886346,\n",
              " 0.8508346746287703,\n",
              " 0.8429334133105009,\n",
              " 0.8252188182884185,\n",
              " 0.8178113509344634,\n",
              " 0.8084032307813311,\n",
              " 0.8094162336641865,\n",
              " 0.7867127451151206,\n",
              " 0.8066178612407608,\n",
              " 0.7864974618565135,\n",
              " 0.7861682452177394,\n",
              " 0.7869279663860343,\n",
              " 0.7853198816481177,\n",
              " 0.7910306218628292,\n",
              " 0.7961081577911396,\n",
              " 0.8082639444346309,\n",
              " 0.8146711163828437,\n",
              " 0.8112269561712901,\n",
              " 0.783635738010601,\n",
              " 0.7795712049651461,\n",
              " 0.7553481501041038,\n",
              " 0.7604384554972208,\n",
              " 0.7633507613008134,\n",
              " 0.7534488471833666,\n",
              " 0.7550189334653299,\n",
              " 0.7485991780153901,\n",
              " 0.7517267050898966,\n",
              " 0.7575640861618883,\n",
              " 0.7621731191047244,\n",
              " 0.7524611972670446,\n",
              " 0.7542972107529884,\n",
              " 0.7493335462171516,\n",
              " 0.7762283326443393,\n",
              " 0.7789633536452782,\n",
              " 0.7695805864586793,\n",
              " 0.7831672970128201,\n",
              " 0.7707582286547683,\n",
              " 0.7786594899730376,\n",
              " 0.7793052777611655,\n",
              " 0.7782542764223569,\n",
              " 0.783484674002186,\n",
              " 0.7918507190443356,\n",
              " 0.7860491048713407,\n",
              " 0.7921808035108149]"
            ]
          },
          "metadata": {},
          "execution_count": 59
        }
      ],
      "source": [
        "temp_input"
      ]
    },
    {
      "cell_type": "markdown",
      "id": "cd79b335",
      "metadata": {
        "id": "cd79b335"
      },
      "source": [
        "# demonstrate prediction for next 10 days"
      ]
    },
    {
      "cell_type": "code",
      "execution_count": 60,
      "id": "d0ef0541",
      "metadata": {
        "colab": {
          "base_uri": "https://localhost:8080/"
        },
        "id": "d0ef0541",
        "outputId": "385e901c-f302-4825-c6cd-d084ae47bf9d"
      },
      "outputs": [
        {
          "output_type": "stream",
          "name": "stdout",
          "text": [
            "[0.7356299]\n",
            "101\n",
            "1 day input [0.84317219 0.84086098 0.85798588 0.86231758 0.85999391 0.84275538\n",
            " 0.8532248  0.85902151 0.84204811 0.80661129 0.80432537 0.80325193\n",
            " 0.78701103 0.77359906 0.77953469 0.80467901 0.80745736 0.82914134\n",
            " 0.82517586 0.83063152 0.83150294 0.8245191  0.81860876 0.83073262\n",
            " 0.8105136  0.80577774 0.81700489 0.82384982 0.81819202 0.7798884\n",
            " 0.77253827 0.76093225 0.75282835 0.75177741 0.76922608 0.77194845\n",
            " 0.79487993 0.79804552 0.79645002 0.79537373 0.78249616 0.80097053\n",
            " 0.81911557 0.82959992 0.82881491 0.82704219 0.83912204 0.84303464\n",
            " 0.8455925  0.84797295 0.84285742 0.86014144 0.85483598 0.85259469\n",
            " 0.85472198 0.84969503 0.85083467 0.84293341 0.82521882 0.81781135\n",
            " 0.80840323 0.80941623 0.78671275 0.80661786 0.78649746 0.78616825\n",
            " 0.78692797 0.78531988 0.79103062 0.79610816 0.80826394 0.81467112\n",
            " 0.81122696 0.78363574 0.7795712  0.75534815 0.76043846 0.76335076\n",
            " 0.75344885 0.75501893 0.74859918 0.75172671 0.75756409 0.76217312\n",
            " 0.7524612  0.75429721 0.74933355 0.77622833 0.77896335 0.76958059\n",
            " 0.7831673  0.77075823 0.77865949 0.77930528 0.77825428 0.78348467\n",
            " 0.79185072 0.7860491  0.7921808  0.73562992]\n",
            "1 day output [[0.6832744]]\n",
            "2 day input [0.84086098 0.85798588 0.86231758 0.85999391 0.84275538 0.8532248\n",
            " 0.85902151 0.84204811 0.80661129 0.80432537 0.80325193 0.78701103\n",
            " 0.77359906 0.77953469 0.80467901 0.80745736 0.82914134 0.82517586\n",
            " 0.83063152 0.83150294 0.8245191  0.81860876 0.83073262 0.8105136\n",
            " 0.80577774 0.81700489 0.82384982 0.81819202 0.7798884  0.77253827\n",
            " 0.76093225 0.75282835 0.75177741 0.76922608 0.77194845 0.79487993\n",
            " 0.79804552 0.79645002 0.79537373 0.78249616 0.80097053 0.81911557\n",
            " 0.82959992 0.82881491 0.82704219 0.83912204 0.84303464 0.8455925\n",
            " 0.84797295 0.84285742 0.86014144 0.85483598 0.85259469 0.85472198\n",
            " 0.84969503 0.85083467 0.84293341 0.82521882 0.81781135 0.80840323\n",
            " 0.80941623 0.78671275 0.80661786 0.78649746 0.78616825 0.78692797\n",
            " 0.78531988 0.79103062 0.79610816 0.80826394 0.81467112 0.81122696\n",
            " 0.78363574 0.7795712  0.75534815 0.76043846 0.76335076 0.75344885\n",
            " 0.75501893 0.74859918 0.75172671 0.75756409 0.76217312 0.7524612\n",
            " 0.75429721 0.74933355 0.77622833 0.77896335 0.76958059 0.7831673\n",
            " 0.77075823 0.77865949 0.77930528 0.77825428 0.78348467 0.79185072\n",
            " 0.7860491  0.7921808  0.73562992 0.68327439]\n",
            "2 day output [[0.6215527]]\n",
            "3 day input [0.85798588 0.86231758 0.85999391 0.84275538 0.8532248  0.85902151\n",
            " 0.84204811 0.80661129 0.80432537 0.80325193 0.78701103 0.77359906\n",
            " 0.77953469 0.80467901 0.80745736 0.82914134 0.82517586 0.83063152\n",
            " 0.83150294 0.8245191  0.81860876 0.83073262 0.8105136  0.80577774\n",
            " 0.81700489 0.82384982 0.81819202 0.7798884  0.77253827 0.76093225\n",
            " 0.75282835 0.75177741 0.76922608 0.77194845 0.79487993 0.79804552\n",
            " 0.79645002 0.79537373 0.78249616 0.80097053 0.81911557 0.82959992\n",
            " 0.82881491 0.82704219 0.83912204 0.84303464 0.8455925  0.84797295\n",
            " 0.84285742 0.86014144 0.85483598 0.85259469 0.85472198 0.84969503\n",
            " 0.85083467 0.84293341 0.82521882 0.81781135 0.80840323 0.80941623\n",
            " 0.78671275 0.80661786 0.78649746 0.78616825 0.78692797 0.78531988\n",
            " 0.79103062 0.79610816 0.80826394 0.81467112 0.81122696 0.78363574\n",
            " 0.7795712  0.75534815 0.76043846 0.76335076 0.75344885 0.75501893\n",
            " 0.74859918 0.75172671 0.75756409 0.76217312 0.7524612  0.75429721\n",
            " 0.74933355 0.77622833 0.77896335 0.76958059 0.7831673  0.77075823\n",
            " 0.77865949 0.77930528 0.77825428 0.78348467 0.79185072 0.7860491\n",
            " 0.7921808  0.73562992 0.68327439 0.62155271]\n",
            "3 day output [[0.56380486]]\n",
            "4 day input [0.86231758 0.85999391 0.84275538 0.8532248  0.85902151 0.84204811\n",
            " 0.80661129 0.80432537 0.80325193 0.78701103 0.77359906 0.77953469\n",
            " 0.80467901 0.80745736 0.82914134 0.82517586 0.83063152 0.83150294\n",
            " 0.8245191  0.81860876 0.83073262 0.8105136  0.80577774 0.81700489\n",
            " 0.82384982 0.81819202 0.7798884  0.77253827 0.76093225 0.75282835\n",
            " 0.75177741 0.76922608 0.77194845 0.79487993 0.79804552 0.79645002\n",
            " 0.79537373 0.78249616 0.80097053 0.81911557 0.82959992 0.82881491\n",
            " 0.82704219 0.83912204 0.84303464 0.8455925  0.84797295 0.84285742\n",
            " 0.86014144 0.85483598 0.85259469 0.85472198 0.84969503 0.85083467\n",
            " 0.84293341 0.82521882 0.81781135 0.80840323 0.80941623 0.78671275\n",
            " 0.80661786 0.78649746 0.78616825 0.78692797 0.78531988 0.79103062\n",
            " 0.79610816 0.80826394 0.81467112 0.81122696 0.78363574 0.7795712\n",
            " 0.75534815 0.76043846 0.76335076 0.75344885 0.75501893 0.74859918\n",
            " 0.75172671 0.75756409 0.76217312 0.7524612  0.75429721 0.74933355\n",
            " 0.77622833 0.77896335 0.76958059 0.7831673  0.77075823 0.77865949\n",
            " 0.77930528 0.77825428 0.78348467 0.79185072 0.7860491  0.7921808\n",
            " 0.73562992 0.68327439 0.62155271 0.56380486]\n",
            "4 day output [[0.5165665]]\n",
            "5 day input [0.85999391 0.84275538 0.8532248  0.85902151 0.84204811 0.80661129\n",
            " 0.80432537 0.80325193 0.78701103 0.77359906 0.77953469 0.80467901\n",
            " 0.80745736 0.82914134 0.82517586 0.83063152 0.83150294 0.8245191\n",
            " 0.81860876 0.83073262 0.8105136  0.80577774 0.81700489 0.82384982\n",
            " 0.81819202 0.7798884  0.77253827 0.76093225 0.75282835 0.75177741\n",
            " 0.76922608 0.77194845 0.79487993 0.79804552 0.79645002 0.79537373\n",
            " 0.78249616 0.80097053 0.81911557 0.82959992 0.82881491 0.82704219\n",
            " 0.83912204 0.84303464 0.8455925  0.84797295 0.84285742 0.86014144\n",
            " 0.85483598 0.85259469 0.85472198 0.84969503 0.85083467 0.84293341\n",
            " 0.82521882 0.81781135 0.80840323 0.80941623 0.78671275 0.80661786\n",
            " 0.78649746 0.78616825 0.78692797 0.78531988 0.79103062 0.79610816\n",
            " 0.80826394 0.81467112 0.81122696 0.78363574 0.7795712  0.75534815\n",
            " 0.76043846 0.76335076 0.75344885 0.75501893 0.74859918 0.75172671\n",
            " 0.75756409 0.76217312 0.7524612  0.75429721 0.74933355 0.77622833\n",
            " 0.77896335 0.76958059 0.7831673  0.77075823 0.77865949 0.77930528\n",
            " 0.77825428 0.78348467 0.79185072 0.7860491  0.7921808  0.73562992\n",
            " 0.68327439 0.62155271 0.56380486 0.51656651]\n",
            "5 day output [[0.48332423]]\n",
            "6 day input [0.84275538 0.8532248  0.85902151 0.84204811 0.80661129 0.80432537\n",
            " 0.80325193 0.78701103 0.77359906 0.77953469 0.80467901 0.80745736\n",
            " 0.82914134 0.82517586 0.83063152 0.83150294 0.8245191  0.81860876\n",
            " 0.83073262 0.8105136  0.80577774 0.81700489 0.82384982 0.81819202\n",
            " 0.7798884  0.77253827 0.76093225 0.75282835 0.75177741 0.76922608\n",
            " 0.77194845 0.79487993 0.79804552 0.79645002 0.79537373 0.78249616\n",
            " 0.80097053 0.81911557 0.82959992 0.82881491 0.82704219 0.83912204\n",
            " 0.84303464 0.8455925  0.84797295 0.84285742 0.86014144 0.85483598\n",
            " 0.85259469 0.85472198 0.84969503 0.85083467 0.84293341 0.82521882\n",
            " 0.81781135 0.80840323 0.80941623 0.78671275 0.80661786 0.78649746\n",
            " 0.78616825 0.78692797 0.78531988 0.79103062 0.79610816 0.80826394\n",
            " 0.81467112 0.81122696 0.78363574 0.7795712  0.75534815 0.76043846\n",
            " 0.76335076 0.75344885 0.75501893 0.74859918 0.75172671 0.75756409\n",
            " 0.76217312 0.7524612  0.75429721 0.74933355 0.77622833 0.77896335\n",
            " 0.76958059 0.7831673  0.77075823 0.77865949 0.77930528 0.77825428\n",
            " 0.78348467 0.79185072 0.7860491  0.7921808  0.73562992 0.68327439\n",
            " 0.62155271 0.56380486 0.51656651 0.48332423]\n",
            "6 day output [[0.46393794]]\n",
            "7 day input [0.8532248  0.85902151 0.84204811 0.80661129 0.80432537 0.80325193\n",
            " 0.78701103 0.77359906 0.77953469 0.80467901 0.80745736 0.82914134\n",
            " 0.82517586 0.83063152 0.83150294 0.8245191  0.81860876 0.83073262\n",
            " 0.8105136  0.80577774 0.81700489 0.82384982 0.81819202 0.7798884\n",
            " 0.77253827 0.76093225 0.75282835 0.75177741 0.76922608 0.77194845\n",
            " 0.79487993 0.79804552 0.79645002 0.79537373 0.78249616 0.80097053\n",
            " 0.81911557 0.82959992 0.82881491 0.82704219 0.83912204 0.84303464\n",
            " 0.8455925  0.84797295 0.84285742 0.86014144 0.85483598 0.85259469\n",
            " 0.85472198 0.84969503 0.85083467 0.84293341 0.82521882 0.81781135\n",
            " 0.80840323 0.80941623 0.78671275 0.80661786 0.78649746 0.78616825\n",
            " 0.78692797 0.78531988 0.79103062 0.79610816 0.80826394 0.81467112\n",
            " 0.81122696 0.78363574 0.7795712  0.75534815 0.76043846 0.76335076\n",
            " 0.75344885 0.75501893 0.74859918 0.75172671 0.75756409 0.76217312\n",
            " 0.7524612  0.75429721 0.74933355 0.77622833 0.77896335 0.76958059\n",
            " 0.7831673  0.77075823 0.77865949 0.77930528 0.77825428 0.78348467\n",
            " 0.79185072 0.7860491  0.7921808  0.73562992 0.68327439 0.62155271\n",
            " 0.56380486 0.51656651 0.48332423 0.46393794]\n",
            "7 day output [[0.4556009]]\n",
            "8 day input [0.85902151 0.84204811 0.80661129 0.80432537 0.80325193 0.78701103\n",
            " 0.77359906 0.77953469 0.80467901 0.80745736 0.82914134 0.82517586\n",
            " 0.83063152 0.83150294 0.8245191  0.81860876 0.83073262 0.8105136\n",
            " 0.80577774 0.81700489 0.82384982 0.81819202 0.7798884  0.77253827\n",
            " 0.76093225 0.75282835 0.75177741 0.76922608 0.77194845 0.79487993\n",
            " 0.79804552 0.79645002 0.79537373 0.78249616 0.80097053 0.81911557\n",
            " 0.82959992 0.82881491 0.82704219 0.83912204 0.84303464 0.8455925\n",
            " 0.84797295 0.84285742 0.86014144 0.85483598 0.85259469 0.85472198\n",
            " 0.84969503 0.85083467 0.84293341 0.82521882 0.81781135 0.80840323\n",
            " 0.80941623 0.78671275 0.80661786 0.78649746 0.78616825 0.78692797\n",
            " 0.78531988 0.79103062 0.79610816 0.80826394 0.81467112 0.81122696\n",
            " 0.78363574 0.7795712  0.75534815 0.76043846 0.76335076 0.75344885\n",
            " 0.75501893 0.74859918 0.75172671 0.75756409 0.76217312 0.7524612\n",
            " 0.75429721 0.74933355 0.77622833 0.77896335 0.76958059 0.7831673\n",
            " 0.77075823 0.77865949 0.77930528 0.77825428 0.78348467 0.79185072\n",
            " 0.7860491  0.7921808  0.73562992 0.68327439 0.62155271 0.56380486\n",
            " 0.51656651 0.48332423 0.46393794 0.45560089]\n",
            "8 day output [[0.45449764]]\n",
            "9 day input [0.84204811 0.80661129 0.80432537 0.80325193 0.78701103 0.77359906\n",
            " 0.77953469 0.80467901 0.80745736 0.82914134 0.82517586 0.83063152\n",
            " 0.83150294 0.8245191  0.81860876 0.83073262 0.8105136  0.80577774\n",
            " 0.81700489 0.82384982 0.81819202 0.7798884  0.77253827 0.76093225\n",
            " 0.75282835 0.75177741 0.76922608 0.77194845 0.79487993 0.79804552\n",
            " 0.79645002 0.79537373 0.78249616 0.80097053 0.81911557 0.82959992\n",
            " 0.82881491 0.82704219 0.83912204 0.84303464 0.8455925  0.84797295\n",
            " 0.84285742 0.86014144 0.85483598 0.85259469 0.85472198 0.84969503\n",
            " 0.85083467 0.84293341 0.82521882 0.81781135 0.80840323 0.80941623\n",
            " 0.78671275 0.80661786 0.78649746 0.78616825 0.78692797 0.78531988\n",
            " 0.79103062 0.79610816 0.80826394 0.81467112 0.81122696 0.78363574\n",
            " 0.7795712  0.75534815 0.76043846 0.76335076 0.75344885 0.75501893\n",
            " 0.74859918 0.75172671 0.75756409 0.76217312 0.7524612  0.75429721\n",
            " 0.74933355 0.77622833 0.77896335 0.76958059 0.7831673  0.77075823\n",
            " 0.77865949 0.77930528 0.77825428 0.78348467 0.79185072 0.7860491\n",
            " 0.7921808  0.73562992 0.68327439 0.62155271 0.56380486 0.51656651\n",
            " 0.48332423 0.46393794 0.45560089 0.45449764]\n",
            "9 day output [[0.45705983]]\n",
            "10 day input [0.80661129 0.80432537 0.80325193 0.78701103 0.77359906 0.77953469\n",
            " 0.80467901 0.80745736 0.82914134 0.82517586 0.83063152 0.83150294\n",
            " 0.8245191  0.81860876 0.83073262 0.8105136  0.80577774 0.81700489\n",
            " 0.82384982 0.81819202 0.7798884  0.77253827 0.76093225 0.75282835\n",
            " 0.75177741 0.76922608 0.77194845 0.79487993 0.79804552 0.79645002\n",
            " 0.79537373 0.78249616 0.80097053 0.81911557 0.82959992 0.82881491\n",
            " 0.82704219 0.83912204 0.84303464 0.8455925  0.84797295 0.84285742\n",
            " 0.86014144 0.85483598 0.85259469 0.85472198 0.84969503 0.85083467\n",
            " 0.84293341 0.82521882 0.81781135 0.80840323 0.80941623 0.78671275\n",
            " 0.80661786 0.78649746 0.78616825 0.78692797 0.78531988 0.79103062\n",
            " 0.79610816 0.80826394 0.81467112 0.81122696 0.78363574 0.7795712\n",
            " 0.75534815 0.76043846 0.76335076 0.75344885 0.75501893 0.74859918\n",
            " 0.75172671 0.75756409 0.76217312 0.7524612  0.75429721 0.74933355\n",
            " 0.77622833 0.77896335 0.76958059 0.7831673  0.77075823 0.77865949\n",
            " 0.77930528 0.77825428 0.78348467 0.79185072 0.7860491  0.7921808\n",
            " 0.73562992 0.68327439 0.62155271 0.56380486 0.51656651 0.48332423\n",
            " 0.46393794 0.45560089 0.45449764 0.45705983]\n",
            "10 day output [[0.46053508]]\n",
            "11 day input [0.80432537 0.80325193 0.78701103 0.77359906 0.77953469 0.80467901\n",
            " 0.80745736 0.82914134 0.82517586 0.83063152 0.83150294 0.8245191\n",
            " 0.81860876 0.83073262 0.8105136  0.80577774 0.81700489 0.82384982\n",
            " 0.81819202 0.7798884  0.77253827 0.76093225 0.75282835 0.75177741\n",
            " 0.76922608 0.77194845 0.79487993 0.79804552 0.79645002 0.79537373\n",
            " 0.78249616 0.80097053 0.81911557 0.82959992 0.82881491 0.82704219\n",
            " 0.83912204 0.84303464 0.8455925  0.84797295 0.84285742 0.86014144\n",
            " 0.85483598 0.85259469 0.85472198 0.84969503 0.85083467 0.84293341\n",
            " 0.82521882 0.81781135 0.80840323 0.80941623 0.78671275 0.80661786\n",
            " 0.78649746 0.78616825 0.78692797 0.78531988 0.79103062 0.79610816\n",
            " 0.80826394 0.81467112 0.81122696 0.78363574 0.7795712  0.75534815\n",
            " 0.76043846 0.76335076 0.75344885 0.75501893 0.74859918 0.75172671\n",
            " 0.75756409 0.76217312 0.7524612  0.75429721 0.74933355 0.77622833\n",
            " 0.77896335 0.76958059 0.7831673  0.77075823 0.77865949 0.77930528\n",
            " 0.77825428 0.78348467 0.79185072 0.7860491  0.7921808  0.73562992\n",
            " 0.68327439 0.62155271 0.56380486 0.51656651 0.48332423 0.46393794\n",
            " 0.45560089 0.45449764 0.45705983 0.46053508]\n",
            "11 day output [[0.4631203]]\n",
            "12 day input [0.80325193 0.78701103 0.77359906 0.77953469 0.80467901 0.80745736\n",
            " 0.82914134 0.82517586 0.83063152 0.83150294 0.8245191  0.81860876\n",
            " 0.83073262 0.8105136  0.80577774 0.81700489 0.82384982 0.81819202\n",
            " 0.7798884  0.77253827 0.76093225 0.75282835 0.75177741 0.76922608\n",
            " 0.77194845 0.79487993 0.79804552 0.79645002 0.79537373 0.78249616\n",
            " 0.80097053 0.81911557 0.82959992 0.82881491 0.82704219 0.83912204\n",
            " 0.84303464 0.8455925  0.84797295 0.84285742 0.86014144 0.85483598\n",
            " 0.85259469 0.85472198 0.84969503 0.85083467 0.84293341 0.82521882\n",
            " 0.81781135 0.80840323 0.80941623 0.78671275 0.80661786 0.78649746\n",
            " 0.78616825 0.78692797 0.78531988 0.79103062 0.79610816 0.80826394\n",
            " 0.81467112 0.81122696 0.78363574 0.7795712  0.75534815 0.76043846\n",
            " 0.76335076 0.75344885 0.75501893 0.74859918 0.75172671 0.75756409\n",
            " 0.76217312 0.7524612  0.75429721 0.74933355 0.77622833 0.77896335\n",
            " 0.76958059 0.7831673  0.77075823 0.77865949 0.77930528 0.77825428\n",
            " 0.78348467 0.79185072 0.7860491  0.7921808  0.73562992 0.68327439\n",
            " 0.62155271 0.56380486 0.51656651 0.48332423 0.46393794 0.45560089\n",
            " 0.45449764 0.45705983 0.46053508 0.46312031]\n",
            "12 day output [[0.46390978]]\n",
            "13 day input [0.78701103 0.77359906 0.77953469 0.80467901 0.80745736 0.82914134\n",
            " 0.82517586 0.83063152 0.83150294 0.8245191  0.81860876 0.83073262\n",
            " 0.8105136  0.80577774 0.81700489 0.82384982 0.81819202 0.7798884\n",
            " 0.77253827 0.76093225 0.75282835 0.75177741 0.76922608 0.77194845\n",
            " 0.79487993 0.79804552 0.79645002 0.79537373 0.78249616 0.80097053\n",
            " 0.81911557 0.82959992 0.82881491 0.82704219 0.83912204 0.84303464\n",
            " 0.8455925  0.84797295 0.84285742 0.86014144 0.85483598 0.85259469\n",
            " 0.85472198 0.84969503 0.85083467 0.84293341 0.82521882 0.81781135\n",
            " 0.80840323 0.80941623 0.78671275 0.80661786 0.78649746 0.78616825\n",
            " 0.78692797 0.78531988 0.79103062 0.79610816 0.80826394 0.81467112\n",
            " 0.81122696 0.78363574 0.7795712  0.75534815 0.76043846 0.76335076\n",
            " 0.75344885 0.75501893 0.74859918 0.75172671 0.75756409 0.76217312\n",
            " 0.7524612  0.75429721 0.74933355 0.77622833 0.77896335 0.76958059\n",
            " 0.7831673  0.77075823 0.77865949 0.77930528 0.77825428 0.78348467\n",
            " 0.79185072 0.7860491  0.7921808  0.73562992 0.68327439 0.62155271\n",
            " 0.56380486 0.51656651 0.48332423 0.46393794 0.45560089 0.45449764\n",
            " 0.45705983 0.46053508 0.46312031 0.46390978]\n",
            "13 day output [[0.46274847]]\n",
            "14 day input [0.77359906 0.77953469 0.80467901 0.80745736 0.82914134 0.82517586\n",
            " 0.83063152 0.83150294 0.8245191  0.81860876 0.83073262 0.8105136\n",
            " 0.80577774 0.81700489 0.82384982 0.81819202 0.7798884  0.77253827\n",
            " 0.76093225 0.75282835 0.75177741 0.76922608 0.77194845 0.79487993\n",
            " 0.79804552 0.79645002 0.79537373 0.78249616 0.80097053 0.81911557\n",
            " 0.82959992 0.82881491 0.82704219 0.83912204 0.84303464 0.8455925\n",
            " 0.84797295 0.84285742 0.86014144 0.85483598 0.85259469 0.85472198\n",
            " 0.84969503 0.85083467 0.84293341 0.82521882 0.81781135 0.80840323\n",
            " 0.80941623 0.78671275 0.80661786 0.78649746 0.78616825 0.78692797\n",
            " 0.78531988 0.79103062 0.79610816 0.80826394 0.81467112 0.81122696\n",
            " 0.78363574 0.7795712  0.75534815 0.76043846 0.76335076 0.75344885\n",
            " 0.75501893 0.74859918 0.75172671 0.75756409 0.76217312 0.7524612\n",
            " 0.75429721 0.74933355 0.77622833 0.77896335 0.76958059 0.7831673\n",
            " 0.77075823 0.77865949 0.77930528 0.77825428 0.78348467 0.79185072\n",
            " 0.7860491  0.7921808  0.73562992 0.68327439 0.62155271 0.56380486\n",
            " 0.51656651 0.48332423 0.46393794 0.45560089 0.45449764 0.45705983\n",
            " 0.46053508 0.46312031 0.46390978 0.46274847]\n",
            "14 day output [[0.4600191]]\n",
            "15 day input [0.77953469 0.80467901 0.80745736 0.82914134 0.82517586 0.83063152\n",
            " 0.83150294 0.8245191  0.81860876 0.83073262 0.8105136  0.80577774\n",
            " 0.81700489 0.82384982 0.81819202 0.7798884  0.77253827 0.76093225\n",
            " 0.75282835 0.75177741 0.76922608 0.77194845 0.79487993 0.79804552\n",
            " 0.79645002 0.79537373 0.78249616 0.80097053 0.81911557 0.82959992\n",
            " 0.82881491 0.82704219 0.83912204 0.84303464 0.8455925  0.84797295\n",
            " 0.84285742 0.86014144 0.85483598 0.85259469 0.85472198 0.84969503\n",
            " 0.85083467 0.84293341 0.82521882 0.81781135 0.80840323 0.80941623\n",
            " 0.78671275 0.80661786 0.78649746 0.78616825 0.78692797 0.78531988\n",
            " 0.79103062 0.79610816 0.80826394 0.81467112 0.81122696 0.78363574\n",
            " 0.7795712  0.75534815 0.76043846 0.76335076 0.75344885 0.75501893\n",
            " 0.74859918 0.75172671 0.75756409 0.76217312 0.7524612  0.75429721\n",
            " 0.74933355 0.77622833 0.77896335 0.76958059 0.7831673  0.77075823\n",
            " 0.77865949 0.77930528 0.77825428 0.78348467 0.79185072 0.7860491\n",
            " 0.7921808  0.73562992 0.68327439 0.62155271 0.56380486 0.51656651\n",
            " 0.48332423 0.46393794 0.45560089 0.45449764 0.45705983 0.46053508\n",
            " 0.46312031 0.46390978 0.46274847 0.46001911]\n",
            "15 day output [[0.45639908]]\n",
            "16 day input [0.80467901 0.80745736 0.82914134 0.82517586 0.83063152 0.83150294\n",
            " 0.8245191  0.81860876 0.83073262 0.8105136  0.80577774 0.81700489\n",
            " 0.82384982 0.81819202 0.7798884  0.77253827 0.76093225 0.75282835\n",
            " 0.75177741 0.76922608 0.77194845 0.79487993 0.79804552 0.79645002\n",
            " 0.79537373 0.78249616 0.80097053 0.81911557 0.82959992 0.82881491\n",
            " 0.82704219 0.83912204 0.84303464 0.8455925  0.84797295 0.84285742\n",
            " 0.86014144 0.85483598 0.85259469 0.85472198 0.84969503 0.85083467\n",
            " 0.84293341 0.82521882 0.81781135 0.80840323 0.80941623 0.78671275\n",
            " 0.80661786 0.78649746 0.78616825 0.78692797 0.78531988 0.79103062\n",
            " 0.79610816 0.80826394 0.81467112 0.81122696 0.78363574 0.7795712\n",
            " 0.75534815 0.76043846 0.76335076 0.75344885 0.75501893 0.74859918\n",
            " 0.75172671 0.75756409 0.76217312 0.7524612  0.75429721 0.74933355\n",
            " 0.77622833 0.77896335 0.76958059 0.7831673  0.77075823 0.77865949\n",
            " 0.77930528 0.77825428 0.78348467 0.79185072 0.7860491  0.7921808\n",
            " 0.73562992 0.68327439 0.62155271 0.56380486 0.51656651 0.48332423\n",
            " 0.46393794 0.45560089 0.45449764 0.45705983 0.46053508 0.46312031\n",
            " 0.46390978 0.46274847 0.46001911 0.45639908]\n",
            "16 day output [[0.45262843]]\n",
            "17 day input [0.80745736 0.82914134 0.82517586 0.83063152 0.83150294 0.8245191\n",
            " 0.81860876 0.83073262 0.8105136  0.80577774 0.81700489 0.82384982\n",
            " 0.81819202 0.7798884  0.77253827 0.76093225 0.75282835 0.75177741\n",
            " 0.76922608 0.77194845 0.79487993 0.79804552 0.79645002 0.79537373\n",
            " 0.78249616 0.80097053 0.81911557 0.82959992 0.82881491 0.82704219\n",
            " 0.83912204 0.84303464 0.8455925  0.84797295 0.84285742 0.86014144\n",
            " 0.85483598 0.85259469 0.85472198 0.84969503 0.85083467 0.84293341\n",
            " 0.82521882 0.81781135 0.80840323 0.80941623 0.78671275 0.80661786\n",
            " 0.78649746 0.78616825 0.78692797 0.78531988 0.79103062 0.79610816\n",
            " 0.80826394 0.81467112 0.81122696 0.78363574 0.7795712  0.75534815\n",
            " 0.76043846 0.76335076 0.75344885 0.75501893 0.74859918 0.75172671\n",
            " 0.75756409 0.76217312 0.7524612  0.75429721 0.74933355 0.77622833\n",
            " 0.77896335 0.76958059 0.7831673  0.77075823 0.77865949 0.77930528\n",
            " 0.77825428 0.78348467 0.79185072 0.7860491  0.7921808  0.73562992\n",
            " 0.68327439 0.62155271 0.56380486 0.51656651 0.48332423 0.46393794\n",
            " 0.45560089 0.45449764 0.45705983 0.46053508 0.46312031 0.46390978\n",
            " 0.46274847 0.46001911 0.45639908 0.45262843]\n",
            "17 day output [[0.4493319]]\n",
            "18 day input [0.82914134 0.82517586 0.83063152 0.83150294 0.8245191  0.81860876\n",
            " 0.83073262 0.8105136  0.80577774 0.81700489 0.82384982 0.81819202\n",
            " 0.7798884  0.77253827 0.76093225 0.75282835 0.75177741 0.76922608\n",
            " 0.77194845 0.79487993 0.79804552 0.79645002 0.79537373 0.78249616\n",
            " 0.80097053 0.81911557 0.82959992 0.82881491 0.82704219 0.83912204\n",
            " 0.84303464 0.8455925  0.84797295 0.84285742 0.86014144 0.85483598\n",
            " 0.85259469 0.85472198 0.84969503 0.85083467 0.84293341 0.82521882\n",
            " 0.81781135 0.80840323 0.80941623 0.78671275 0.80661786 0.78649746\n",
            " 0.78616825 0.78692797 0.78531988 0.79103062 0.79610816 0.80826394\n",
            " 0.81467112 0.81122696 0.78363574 0.7795712  0.75534815 0.76043846\n",
            " 0.76335076 0.75344885 0.75501893 0.74859918 0.75172671 0.75756409\n",
            " 0.76217312 0.7524612  0.75429721 0.74933355 0.77622833 0.77896335\n",
            " 0.76958059 0.7831673  0.77075823 0.77865949 0.77930528 0.77825428\n",
            " 0.78348467 0.79185072 0.7860491  0.7921808  0.73562992 0.68327439\n",
            " 0.62155271 0.56380486 0.51656651 0.48332423 0.46393794 0.45560089\n",
            " 0.45449764 0.45705983 0.46053508 0.46312031 0.46390978 0.46274847\n",
            " 0.46001911 0.45639908 0.45262843 0.44933191]\n",
            "18 day output [[0.44691488]]\n",
            "19 day input [0.82517586 0.83063152 0.83150294 0.8245191  0.81860876 0.83073262\n",
            " 0.8105136  0.80577774 0.81700489 0.82384982 0.81819202 0.7798884\n",
            " 0.77253827 0.76093225 0.75282835 0.75177741 0.76922608 0.77194845\n",
            " 0.79487993 0.79804552 0.79645002 0.79537373 0.78249616 0.80097053\n",
            " 0.81911557 0.82959992 0.82881491 0.82704219 0.83912204 0.84303464\n",
            " 0.8455925  0.84797295 0.84285742 0.86014144 0.85483598 0.85259469\n",
            " 0.85472198 0.84969503 0.85083467 0.84293341 0.82521882 0.81781135\n",
            " 0.80840323 0.80941623 0.78671275 0.80661786 0.78649746 0.78616825\n",
            " 0.78692797 0.78531988 0.79103062 0.79610816 0.80826394 0.81467112\n",
            " 0.81122696 0.78363574 0.7795712  0.75534815 0.76043846 0.76335076\n",
            " 0.75344885 0.75501893 0.74859918 0.75172671 0.75756409 0.76217312\n",
            " 0.7524612  0.75429721 0.74933355 0.77622833 0.77896335 0.76958059\n",
            " 0.7831673  0.77075823 0.77865949 0.77930528 0.77825428 0.78348467\n",
            " 0.79185072 0.7860491  0.7921808  0.73562992 0.68327439 0.62155271\n",
            " 0.56380486 0.51656651 0.48332423 0.46393794 0.45560089 0.45449764\n",
            " 0.45705983 0.46053508 0.46312031 0.46390978 0.46274847 0.46001911\n",
            " 0.45639908 0.45262843 0.44933191 0.44691488]\n",
            "19 day output [[0.44553456]]\n",
            "20 day input [0.83063152 0.83150294 0.8245191  0.81860876 0.83073262 0.8105136\n",
            " 0.80577774 0.81700489 0.82384982 0.81819202 0.7798884  0.77253827\n",
            " 0.76093225 0.75282835 0.75177741 0.76922608 0.77194845 0.79487993\n",
            " 0.79804552 0.79645002 0.79537373 0.78249616 0.80097053 0.81911557\n",
            " 0.82959992 0.82881491 0.82704219 0.83912204 0.84303464 0.8455925\n",
            " 0.84797295 0.84285742 0.86014144 0.85483598 0.85259469 0.85472198\n",
            " 0.84969503 0.85083467 0.84293341 0.82521882 0.81781135 0.80840323\n",
            " 0.80941623 0.78671275 0.80661786 0.78649746 0.78616825 0.78692797\n",
            " 0.78531988 0.79103062 0.79610816 0.80826394 0.81467112 0.81122696\n",
            " 0.78363574 0.7795712  0.75534815 0.76043846 0.76335076 0.75344885\n",
            " 0.75501893 0.74859918 0.75172671 0.75756409 0.76217312 0.7524612\n",
            " 0.75429721 0.74933355 0.77622833 0.77896335 0.76958059 0.7831673\n",
            " 0.77075823 0.77865949 0.77930528 0.77825428 0.78348467 0.79185072\n",
            " 0.7860491  0.7921808  0.73562992 0.68327439 0.62155271 0.56380486\n",
            " 0.51656651 0.48332423 0.46393794 0.45560089 0.45449764 0.45705983\n",
            " 0.46053508 0.46312031 0.46390978 0.46274847 0.46001911 0.45639908\n",
            " 0.45262843 0.44933191 0.44691488 0.44553456]\n",
            "20 day output [[0.44513056]]\n",
            "21 day input [0.83150294 0.8245191  0.81860876 0.83073262 0.8105136  0.80577774\n",
            " 0.81700489 0.82384982 0.81819202 0.7798884  0.77253827 0.76093225\n",
            " 0.75282835 0.75177741 0.76922608 0.77194845 0.79487993 0.79804552\n",
            " 0.79645002 0.79537373 0.78249616 0.80097053 0.81911557 0.82959992\n",
            " 0.82881491 0.82704219 0.83912204 0.84303464 0.8455925  0.84797295\n",
            " 0.84285742 0.86014144 0.85483598 0.85259469 0.85472198 0.84969503\n",
            " 0.85083467 0.84293341 0.82521882 0.81781135 0.80840323 0.80941623\n",
            " 0.78671275 0.80661786 0.78649746 0.78616825 0.78692797 0.78531988\n",
            " 0.79103062 0.79610816 0.80826394 0.81467112 0.81122696 0.78363574\n",
            " 0.7795712  0.75534815 0.76043846 0.76335076 0.75344885 0.75501893\n",
            " 0.74859918 0.75172671 0.75756409 0.76217312 0.7524612  0.75429721\n",
            " 0.74933355 0.77622833 0.77896335 0.76958059 0.7831673  0.77075823\n",
            " 0.77865949 0.77930528 0.77825428 0.78348467 0.79185072 0.7860491\n",
            " 0.7921808  0.73562992 0.68327439 0.62155271 0.56380486 0.51656651\n",
            " 0.48332423 0.46393794 0.45560089 0.45449764 0.45705983 0.46053508\n",
            " 0.46312031 0.46390978 0.46274847 0.46001911 0.45639908 0.45262843\n",
            " 0.44933191 0.44691488 0.44553456 0.44513056]\n",
            "21 day output [[0.44548735]]\n",
            "22 day input [0.8245191  0.81860876 0.83073262 0.8105136  0.80577774 0.81700489\n",
            " 0.82384982 0.81819202 0.7798884  0.77253827 0.76093225 0.75282835\n",
            " 0.75177741 0.76922608 0.77194845 0.79487993 0.79804552 0.79645002\n",
            " 0.79537373 0.78249616 0.80097053 0.81911557 0.82959992 0.82881491\n",
            " 0.82704219 0.83912204 0.84303464 0.8455925  0.84797295 0.84285742\n",
            " 0.86014144 0.85483598 0.85259469 0.85472198 0.84969503 0.85083467\n",
            " 0.84293341 0.82521882 0.81781135 0.80840323 0.80941623 0.78671275\n",
            " 0.80661786 0.78649746 0.78616825 0.78692797 0.78531988 0.79103062\n",
            " 0.79610816 0.80826394 0.81467112 0.81122696 0.78363574 0.7795712\n",
            " 0.75534815 0.76043846 0.76335076 0.75344885 0.75501893 0.74859918\n",
            " 0.75172671 0.75756409 0.76217312 0.7524612  0.75429721 0.74933355\n",
            " 0.77622833 0.77896335 0.76958059 0.7831673  0.77075823 0.77865949\n",
            " 0.77930528 0.77825428 0.78348467 0.79185072 0.7860491  0.7921808\n",
            " 0.73562992 0.68327439 0.62155271 0.56380486 0.51656651 0.48332423\n",
            " 0.46393794 0.45560089 0.45449764 0.45705983 0.46053508 0.46312031\n",
            " 0.46390978 0.46274847 0.46001911 0.45639908 0.45262843 0.44933191\n",
            " 0.44691488 0.44553456 0.44513056 0.44548735]\n",
            "22 day output [[0.44630888]]\n",
            "23 day input [0.81860876 0.83073262 0.8105136  0.80577774 0.81700489 0.82384982\n",
            " 0.81819202 0.7798884  0.77253827 0.76093225 0.75282835 0.75177741\n",
            " 0.76922608 0.77194845 0.79487993 0.79804552 0.79645002 0.79537373\n",
            " 0.78249616 0.80097053 0.81911557 0.82959992 0.82881491 0.82704219\n",
            " 0.83912204 0.84303464 0.8455925  0.84797295 0.84285742 0.86014144\n",
            " 0.85483598 0.85259469 0.85472198 0.84969503 0.85083467 0.84293341\n",
            " 0.82521882 0.81781135 0.80840323 0.80941623 0.78671275 0.80661786\n",
            " 0.78649746 0.78616825 0.78692797 0.78531988 0.79103062 0.79610816\n",
            " 0.80826394 0.81467112 0.81122696 0.78363574 0.7795712  0.75534815\n",
            " 0.76043846 0.76335076 0.75344885 0.75501893 0.74859918 0.75172671\n",
            " 0.75756409 0.76217312 0.7524612  0.75429721 0.74933355 0.77622833\n",
            " 0.77896335 0.76958059 0.7831673  0.77075823 0.77865949 0.77930528\n",
            " 0.77825428 0.78348467 0.79185072 0.7860491  0.7921808  0.73562992\n",
            " 0.68327439 0.62155271 0.56380486 0.51656651 0.48332423 0.46393794\n",
            " 0.45560089 0.45449764 0.45705983 0.46053508 0.46312031 0.46390978\n",
            " 0.46274847 0.46001911 0.45639908 0.45262843 0.44933191 0.44691488\n",
            " 0.44553456 0.44513056 0.44548735 0.44630888]\n",
            "23 day output [[0.44728512]]\n",
            "24 day input [0.83073262 0.8105136  0.80577774 0.81700489 0.82384982 0.81819202\n",
            " 0.7798884  0.77253827 0.76093225 0.75282835 0.75177741 0.76922608\n",
            " 0.77194845 0.79487993 0.79804552 0.79645002 0.79537373 0.78249616\n",
            " 0.80097053 0.81911557 0.82959992 0.82881491 0.82704219 0.83912204\n",
            " 0.84303464 0.8455925  0.84797295 0.84285742 0.86014144 0.85483598\n",
            " 0.85259469 0.85472198 0.84969503 0.85083467 0.84293341 0.82521882\n",
            " 0.81781135 0.80840323 0.80941623 0.78671275 0.80661786 0.78649746\n",
            " 0.78616825 0.78692797 0.78531988 0.79103062 0.79610816 0.80826394\n",
            " 0.81467112 0.81122696 0.78363574 0.7795712  0.75534815 0.76043846\n",
            " 0.76335076 0.75344885 0.75501893 0.74859918 0.75172671 0.75756409\n",
            " 0.76217312 0.7524612  0.75429721 0.74933355 0.77622833 0.77896335\n",
            " 0.76958059 0.7831673  0.77075823 0.77865949 0.77930528 0.77825428\n",
            " 0.78348467 0.79185072 0.7860491  0.7921808  0.73562992 0.68327439\n",
            " 0.62155271 0.56380486 0.51656651 0.48332423 0.46393794 0.45560089\n",
            " 0.45449764 0.45705983 0.46053508 0.46312031 0.46390978 0.46274847\n",
            " 0.46001911 0.45639908 0.45262843 0.44933191 0.44691488 0.44553456\n",
            " 0.44513056 0.44548735 0.44630888 0.44728512]\n",
            "24 day output [[0.4481436]]\n",
            "25 day input [0.8105136  0.80577774 0.81700489 0.82384982 0.81819202 0.7798884\n",
            " 0.77253827 0.76093225 0.75282835 0.75177741 0.76922608 0.77194845\n",
            " 0.79487993 0.79804552 0.79645002 0.79537373 0.78249616 0.80097053\n",
            " 0.81911557 0.82959992 0.82881491 0.82704219 0.83912204 0.84303464\n",
            " 0.8455925  0.84797295 0.84285742 0.86014144 0.85483598 0.85259469\n",
            " 0.85472198 0.84969503 0.85083467 0.84293341 0.82521882 0.81781135\n",
            " 0.80840323 0.80941623 0.78671275 0.80661786 0.78649746 0.78616825\n",
            " 0.78692797 0.78531988 0.79103062 0.79610816 0.80826394 0.81467112\n",
            " 0.81122696 0.78363574 0.7795712  0.75534815 0.76043846 0.76335076\n",
            " 0.75344885 0.75501893 0.74859918 0.75172671 0.75756409 0.76217312\n",
            " 0.7524612  0.75429721 0.74933355 0.77622833 0.77896335 0.76958059\n",
            " 0.7831673  0.77075823 0.77865949 0.77930528 0.77825428 0.78348467\n",
            " 0.79185072 0.7860491  0.7921808  0.73562992 0.68327439 0.62155271\n",
            " 0.56380486 0.51656651 0.48332423 0.46393794 0.45560089 0.45449764\n",
            " 0.45705983 0.46053508 0.46312031 0.46390978 0.46274847 0.46001911\n",
            " 0.45639908 0.45262843 0.44933191 0.44691488 0.44553456 0.44513056\n",
            " 0.44548735 0.44630888 0.44728512 0.4481436 ]\n",
            "25 day output [[0.4486795]]\n",
            "26 day input [0.80577774 0.81700489 0.82384982 0.81819202 0.7798884  0.77253827\n",
            " 0.76093225 0.75282835 0.75177741 0.76922608 0.77194845 0.79487993\n",
            " 0.79804552 0.79645002 0.79537373 0.78249616 0.80097053 0.81911557\n",
            " 0.82959992 0.82881491 0.82704219 0.83912204 0.84303464 0.8455925\n",
            " 0.84797295 0.84285742 0.86014144 0.85483598 0.85259469 0.85472198\n",
            " 0.84969503 0.85083467 0.84293341 0.82521882 0.81781135 0.80840323\n",
            " 0.80941623 0.78671275 0.80661786 0.78649746 0.78616825 0.78692797\n",
            " 0.78531988 0.79103062 0.79610816 0.80826394 0.81467112 0.81122696\n",
            " 0.78363574 0.7795712  0.75534815 0.76043846 0.76335076 0.75344885\n",
            " 0.75501893 0.74859918 0.75172671 0.75756409 0.76217312 0.7524612\n",
            " 0.75429721 0.74933355 0.77622833 0.77896335 0.76958059 0.7831673\n",
            " 0.77075823 0.77865949 0.77930528 0.77825428 0.78348467 0.79185072\n",
            " 0.7860491  0.7921808  0.73562992 0.68327439 0.62155271 0.56380486\n",
            " 0.51656651 0.48332423 0.46393794 0.45560089 0.45449764 0.45705983\n",
            " 0.46053508 0.46312031 0.46390978 0.46274847 0.46001911 0.45639908\n",
            " 0.45262843 0.44933191 0.44691488 0.44553456 0.44513056 0.44548735\n",
            " 0.44630888 0.44728512 0.4481436  0.44867951]\n",
            "26 day output [[0.44876847]]\n",
            "27 day input [0.81700489 0.82384982 0.81819202 0.7798884  0.77253827 0.76093225\n",
            " 0.75282835 0.75177741 0.76922608 0.77194845 0.79487993 0.79804552\n",
            " 0.79645002 0.79537373 0.78249616 0.80097053 0.81911557 0.82959992\n",
            " 0.82881491 0.82704219 0.83912204 0.84303464 0.8455925  0.84797295\n",
            " 0.84285742 0.86014144 0.85483598 0.85259469 0.85472198 0.84969503\n",
            " 0.85083467 0.84293341 0.82521882 0.81781135 0.80840323 0.80941623\n",
            " 0.78671275 0.80661786 0.78649746 0.78616825 0.78692797 0.78531988\n",
            " 0.79103062 0.79610816 0.80826394 0.81467112 0.81122696 0.78363574\n",
            " 0.7795712  0.75534815 0.76043846 0.76335076 0.75344885 0.75501893\n",
            " 0.74859918 0.75172671 0.75756409 0.76217312 0.7524612  0.75429721\n",
            " 0.74933355 0.77622833 0.77896335 0.76958059 0.7831673  0.77075823\n",
            " 0.77865949 0.77930528 0.77825428 0.78348467 0.79185072 0.7860491\n",
            " 0.7921808  0.73562992 0.68327439 0.62155271 0.56380486 0.51656651\n",
            " 0.48332423 0.46393794 0.45560089 0.45449764 0.45705983 0.46053508\n",
            " 0.46312031 0.46390978 0.46274847 0.46001911 0.45639908 0.45262843\n",
            " 0.44933191 0.44691488 0.44553456 0.44513056 0.44548735 0.44630888\n",
            " 0.44728512 0.4481436  0.44867951 0.44876847]\n",
            "27 day output [[0.44836307]]\n",
            "28 day input [0.82384982 0.81819202 0.7798884  0.77253827 0.76093225 0.75282835\n",
            " 0.75177741 0.76922608 0.77194845 0.79487993 0.79804552 0.79645002\n",
            " 0.79537373 0.78249616 0.80097053 0.81911557 0.82959992 0.82881491\n",
            " 0.82704219 0.83912204 0.84303464 0.8455925  0.84797295 0.84285742\n",
            " 0.86014144 0.85483598 0.85259469 0.85472198 0.84969503 0.85083467\n",
            " 0.84293341 0.82521882 0.81781135 0.80840323 0.80941623 0.78671275\n",
            " 0.80661786 0.78649746 0.78616825 0.78692797 0.78531988 0.79103062\n",
            " 0.79610816 0.80826394 0.81467112 0.81122696 0.78363574 0.7795712\n",
            " 0.75534815 0.76043846 0.76335076 0.75344885 0.75501893 0.74859918\n",
            " 0.75172671 0.75756409 0.76217312 0.7524612  0.75429721 0.74933355\n",
            " 0.77622833 0.77896335 0.76958059 0.7831673  0.77075823 0.77865949\n",
            " 0.77930528 0.77825428 0.78348467 0.79185072 0.7860491  0.7921808\n",
            " 0.73562992 0.68327439 0.62155271 0.56380486 0.51656651 0.48332423\n",
            " 0.46393794 0.45560089 0.45449764 0.45705983 0.46053508 0.46312031\n",
            " 0.46390978 0.46274847 0.46001911 0.45639908 0.45262843 0.44933191\n",
            " 0.44691488 0.44553456 0.44513056 0.44548735 0.44630888 0.44728512\n",
            " 0.4481436  0.44867951 0.44876847 0.44836307]\n",
            "28 day output [[0.4474784]]\n",
            "29 day input [0.81819202 0.7798884  0.77253827 0.76093225 0.75282835 0.75177741\n",
            " 0.76922608 0.77194845 0.79487993 0.79804552 0.79645002 0.79537373\n",
            " 0.78249616 0.80097053 0.81911557 0.82959992 0.82881491 0.82704219\n",
            " 0.83912204 0.84303464 0.8455925  0.84797295 0.84285742 0.86014144\n",
            " 0.85483598 0.85259469 0.85472198 0.84969503 0.85083467 0.84293341\n",
            " 0.82521882 0.81781135 0.80840323 0.80941623 0.78671275 0.80661786\n",
            " 0.78649746 0.78616825 0.78692797 0.78531988 0.79103062 0.79610816\n",
            " 0.80826394 0.81467112 0.81122696 0.78363574 0.7795712  0.75534815\n",
            " 0.76043846 0.76335076 0.75344885 0.75501893 0.74859918 0.75172671\n",
            " 0.75756409 0.76217312 0.7524612  0.75429721 0.74933355 0.77622833\n",
            " 0.77896335 0.76958059 0.7831673  0.77075823 0.77865949 0.77930528\n",
            " 0.77825428 0.78348467 0.79185072 0.7860491  0.7921808  0.73562992\n",
            " 0.68327439 0.62155271 0.56380486 0.51656651 0.48332423 0.46393794\n",
            " 0.45560089 0.45449764 0.45705983 0.46053508 0.46312031 0.46390978\n",
            " 0.46274847 0.46001911 0.45639908 0.45262843 0.44933191 0.44691488\n",
            " 0.44553456 0.44513056 0.44548735 0.44630888 0.44728512 0.4481436\n",
            " 0.44867951 0.44876847 0.44836307 0.44747841]\n",
            "29 day output [[0.44617292]]\n",
            "[[0.7356299161911011], [0.6832743883132935], [0.6215527057647705], [0.5638048648834229], [0.5165665149688721], [0.48332422971725464], [0.4639379382133484], [0.45560088753700256], [0.45449763536453247], [0.4570598304271698], [0.46053507924079895], [0.46312031149864197], [0.463909775018692], [0.4627484679222107], [0.4600191116333008], [0.4563990831375122], [0.4526284337043762], [0.4493319094181061], [0.4469148814678192], [0.4455345571041107], [0.4451305568218231], [0.4454873502254486], [0.4463088810443878], [0.44728511571884155], [0.4481436014175415], [0.44867950677871704], [0.4487684667110443], [0.4483630657196045], [0.44747841358184814], [0.44617292284965515]]\n"
          ]
        }
      ],
      "source": [
        "\n",
        "from numpy import array\n",
        "\n",
        "lst_output=[]\n",
        "n_steps=100\n",
        "i=0\n",
        "while(i<30):\n",
        "    \n",
        "    if(len(temp_input)>100):\n",
        "        #print(temp_input)\n",
        "        x_input=np.array(temp_input[1:])\n",
        "        print(\"{} day input {}\".format(i,x_input))\n",
        "        x_input=x_input.reshape(1,-1)\n",
        "        x_input = x_input.reshape((1, n_steps, 1))\n",
        "        #print(x_input)\n",
        "        yhat = model.predict(x_input, verbose=0)\n",
        "        print(\"{} day output {}\".format(i,yhat))\n",
        "        temp_input.extend(yhat[0].tolist())\n",
        "        temp_input=temp_input[1:]\n",
        "        #print(temp_input)\n",
        "        lst_output.extend(yhat.tolist())\n",
        "        i=i+1\n",
        "    else:\n",
        "        x_input = x_input.reshape((1, n_steps,1))\n",
        "        yhat = model.predict(x_input, verbose=0)\n",
        "        print(yhat[0])\n",
        "        temp_input.extend(yhat[0].tolist())\n",
        "        print(len(temp_input))\n",
        "        lst_output.extend(yhat.tolist())\n",
        "        i=i+1\n",
        "    \n",
        "\n",
        "print(lst_output)"
      ]
    },
    {
      "cell_type": "code",
      "execution_count": 61,
      "id": "17a00363",
      "metadata": {
        "id": "17a00363"
      },
      "outputs": [],
      "source": [
        "day_new=np.arange(1,101)\n",
        "day_pred=np.arange(101,131)"
      ]
    },
    {
      "cell_type": "code",
      "execution_count": 62,
      "id": "0f612fe3",
      "metadata": {
        "id": "0f612fe3"
      },
      "outputs": [],
      "source": [
        "import matplotlib.pyplot as plt"
      ]
    },
    {
      "cell_type": "code",
      "execution_count": 63,
      "id": "d434fb34",
      "metadata": {
        "id": "d434fb34"
      },
      "outputs": [],
      "source": [
        "len(df1)\n",
        "b = len(df1)-100 "
      ]
    },
    {
      "cell_type": "markdown",
      "id": "cbe89082",
      "metadata": {
        "id": "cbe89082"
      },
      "source": [
        "## Predectation "
      ]
    },
    {
      "cell_type": "code",
      "execution_count": 64,
      "id": "ea382678",
      "metadata": {
        "colab": {
          "base_uri": "https://localhost:8080/",
          "height": 286
        },
        "id": "ea382678",
        "outputId": "53973cc0-8778-4252-a4dc-9105df9ee826"
      },
      "outputs": [
        {
          "output_type": "execute_result",
          "data": {
            "text/plain": [
              "[<matplotlib.lines.Line2D at 0x7f1c251e4e10>]"
            ]
          },
          "metadata": {},
          "execution_count": 64
        },
        {
          "output_type": "display_data",
          "data": {
            "text/plain": [
              "<Figure size 432x288 with 1 Axes>"
            ],
            "image/png": "[encoded data removed]"
          },
          "metadata": {
            "needs_background": "light"
          }
        }
      ],
      "source": [
        "plt.plot(day_new,scaler.inverse_transform(df1[b:]))\n",
        "plt.plot(day_pred,scaler.inverse_transform(lst_output))"
      ]
    },
    {
      "cell_type": "code",
      "execution_count": 65,
      "id": "eddb1b48",
      "metadata": {
        "colab": {
          "base_uri": "https://localhost:8080/",
          "height": 282
        },
        "id": "eddb1b48",
        "outputId": "de67a8c7-6b88-494b-c761-aed4fae0f685"
      },
      "outputs": [
        {
          "output_type": "execute_result",
          "data": {
            "text/plain": [
              "[<matplotlib.lines.Line2D at 0x7f1c25198ed0>]"
            ]
          },
          "metadata": {},
          "execution_count": 65
        },
        {
          "output_type": "display_data",
          "data": {
            "text/plain": [
              "<Figure size 432x288 with 1 Axes>"
            ],
            "image/png": "[encoded data removed]"
          },
          "metadata": {
            "needs_background": "light"
          }
        }
      ],
      "source": [
        "df3=df1.tolist()\n",
        "df3.extend(lst_output)\n",
        "plt.plot(df3[120:])"
      ]
    },
    {
      "cell_type": "code",
      "execution_count": 66,
      "id": "72d23a88",
      "metadata": {
        "id": "72d23a88"
      },
      "outputs": [],
      "source": [
        "df3=scaler.inverse_transform(df3).tolist()"
      ]
    },
    {
      "cell_type": "markdown",
      "id": "5c43840b",
      "metadata": {
        "id": "5c43840b"
      },
      "source": [
        "## Output"
      ]
    },
    {
      "cell_type": "code",
      "execution_count": 69,
      "id": "88606fcc",
      "metadata": {
        "colab": {
          "base_uri": "https://localhost:8080/",
          "height": 282
        },
        "id": "88606fcc",
        "outputId": "9e698c52-9ee9-45ee-e7ce-c1426cba13c1"
      },
      "outputs": [
        {
          "output_type": "execute_result",
          "data": {
            "text/plain": [
              "[<matplotlib.lines.Line2D at 0x7f1c24f90090>]"
            ]
          },
          "metadata": {},
          "execution_count": 69
        },
        {
          "output_type": "display_data",
          "data": {
            "text/plain": [
              "<Figure size 432x288 with 1 Axes>"
            ],
            "image/png": "[encoded data removed]"
          },
          "metadata": {
            "needs_background": "light"
          }
        }
      ],
      "source": [
        "plt.plot(df3)"
      ]
    },
    {
      "cell_type": "code",
      "execution_count": 69,
      "id": "97d6ba62",
      "metadata": {
        "id": "97d6ba62"
      },
      "outputs": [],
      "source": []
    }
  ],
  "metadata": {
    "kernelspec": {
      "display_name": "Python 3 (ipykernel)",
      "language": "python",
      "name": "python3"
    },
    "language_info": {
      "codemirror_mode": {
        "name": "ipython",
        "version": 3
      },
      "file_extension": ".py",
      "mimetype": "text/x-python",
      "name": "python",
      "nbconvert_exporter": "python",
      "pygments_lexer": "ipython3",
      "version": "3.9.12"
    },
    "colab": {
      "provenance": [],
      "include_colab_link": true
    }
  },
  "nbformat": 4,
  "nbformat_minor": 5
}