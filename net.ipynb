{
  "nbformat": 4,
  "nbformat_minor": 0,
  "metadata": {
    "colab": {
      "provenance": [],
      "authorship_tag": "ABX9TyPFzxQP8WvKxT45sbVIEcuf",
      "include_colab_link": true
    },
    "kernelspec": {
      "name": "python3",
      "display_name": "Python 3"
    },
    "language_info": {
      "name": "python"
    }
  },
  "cells": [
    {
      "cell_type": "markdown",
      "metadata": {
        "id": "view-in-github",
        "colab_type": "text"
      },
      "source": [
        "<a href=\"https://colab.research.google.com/github/urmilapol/python-course/blob/master/net.ipynb\" target=\"_parent\"><img src=\"https://colab.research.google.com/assets/colab-badge.svg\" alt=\"Open In Colab\"/></a>"
      ]
    },
    {
      "cell_type": "code",
      "execution_count": 1,
      "metadata": {
        "colab": {
          "base_uri": "https://localhost:8080/",
          "height": 131
        },
        "id": "T2SsXcoYv6bc",
        "outputId": "a0dc14cf-2473-43ac-be58-e228f17ee5fc"
      },
      "outputs": [
        {
          "output_type": "error",
          "ename": "SyntaxError",
          "evalue": "ignored",
          "traceback": [
            "\u001b[0;36m  File \u001b[0;32m\"<ipython-input-1-caa3b57699f3>\"\u001b[0;36m, line \u001b[0;32m3\u001b[0m\n\u001b[0;31m    import sys |\u001b[0m\n\u001b[0m               ^\u001b[0m\n\u001b[0;31mSyntaxError\u001b[0m\u001b[0;31m:\u001b[0m invalid syntax\n"
          ]
        }
      ],
      "source": [
        "import paramiko\n",
        "import os\n",
        "import sys |\n",
        "ssh = paramiko.SSHClient()\n",
        "ssh.set_missing_host_key_policy(paramiko.AutoAddPolicy())\n",
        "ssh.connect('192.168.4.11\", port=22, username='kalyan@gmail.com, password='123456')\n",
        "stdin, stdout, stderr = ssh.exec_command('copy tftp: flash:')\n",
        "output = stdout.readlines()\n",
        "print \"\\n'.join(output)\n"
      ]
    }
  ]
}