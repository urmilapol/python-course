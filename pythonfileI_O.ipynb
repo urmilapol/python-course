{
  "nbformat": 4,
  "nbformat_minor": 0,
  "metadata": {
    "colab": {
      "name": "pythonfileI/O.ipynb",
      "provenance": [],
      "authorship_tag": "ABX9TyPSxc88MgKxQksmj3nOxzAy",
      "include_colab_link": true
    },
    "kernelspec": {
      "name": "python3",
      "display_name": "Python 3"
    },
    "language_info": {
      "name": "python"
    }
  },
  "cells": [
    {
      "cell_type": "markdown",
      "metadata": {
        "id": "view-in-github",
        "colab_type": "text"
      },
      "source": [
        "<a href=\"https://colab.research.google.com/github/urmilapol/python-course/blob/master/pythonfileI_O.ipynb\" target=\"_parent\"><img src=\"https://colab.research.google.com/assets/colab-badge.svg\" alt=\"Open In Colab\"/></a>"
      ]
    },
    {
      "cell_type": "markdown",
      "source": [
        "# Python File Handling\n",
        "\n",
        "\n",
        "File Operations\n",
        "Files are named locations on our storage device for recording data. Python provides numerous builtin functions to work with these files.\n",
        "\n",
        "There are three steps we need to follow to work with files:\n",
        "\n",
        "Open a file\n",
        "\n",
        "Perform Operation (Read or Write)\n",
        "\n",
        "Close the file"
      ],
      "metadata": {
        "id": "Ywm3NWasJ5UY"
      }
    },
    {
      "cell_type": "markdown",
      "source": [
        "**Opening a File**"
      ],
      "metadata": {
        "id": "PO6bQ-E_KenT"
      }
    },
    {
      "cell_type": "code",
      "source": [
        "f = open('/content/sample_data/univ.txt','r')"
      ],
      "metadata": {
        "id": "aQYDMDeWGaNd"
      },
      "execution_count": 20,
      "outputs": []
    },
    {
      "cell_type": "code",
      "source": [
        "\n",
        "content1 = f.read(7)\n",
        "print(content1)\n",
        "more_content = f.read(12)\n",
        "print(more_content)\n",
        "content = f.read()\n",
        "print(content)\n",
        "\n",
        "#f.close()"
      ],
      "metadata": {
        "colab": {
          "base_uri": "https://localhost:8080/"
        },
        "id": "rdnFLaGOHHis",
        "outputId": "1e9ef849-03a3-483c-a7b6-1984512755b3"
      },
      "execution_count": 21,
      "outputs": [
        {
          "output_type": "stream",
          "name": "stdout",
          "text": [
            "Shivaji\n",
            " University,\n",
            " established in 1962, is named after the Great Maratha Warrior and founder of the Maratha empire Chhatrapati Shivaji Maharaj. It was inaugurated on 18th November, 1962 by Dr. Radhakrishnan, the then President of India. One of the major objectives behind foundation of this University was to cater to the regional needs of South Maharashtra. The jurisdiction of the University is spread over three districts viz. Kolhapur, Sangli and Satara with strength of about 3,00,000 students studying in 280 affiliated colleges and recognised institutes. This region of Maharashtra boasts of rich and varied socio-cultural heritage. Under the innovative and socially reformist leadership of Chhatrapati Shahu Maharaj, the princely ruler of Kolhapur, the city had become at the beginning of this century, a focal point of educational opportunities for all classes and communities of South-Western Maharashtra, and northern parts of neighbouring Karnataka. This is also land of Karmaveer Bhaurao Patil, who struggled for taking education to the masses by his innovative 'Earn and Learn' scheme. When the University was founded by the Shivaji University Act of 1962, the objectives set before the University included making opportunities of higher education accessible to rural youth, conducting fundamental and applied research in the field of science and humanities to ensure regional growth and development.\n"
          ]
        }
      ]
    },
    {
      "cell_type": "code",
      "source": [
        "p = open('/content/sample_data/univ1.txt','w')\n",
        "\n",
        "p.write(\"welcome to lab\")\n"
      ],
      "metadata": {
        "id": "jKUEtx38KnMu"
      },
      "execution_count": null,
      "outputs": []
    },
    {
      "cell_type": "code",
      "source": [
        "c = open('/content/sample_data/univ1.txt','r')\n",
        "cont= c.read()\n",
        "print(cont)"
      ],
      "metadata": {
        "colab": {
          "base_uri": "https://localhost:8080/"
        },
        "id": "C8M1sGtdK1I6",
        "outputId": "e78e3eec-0476-4eb2-8d03-f5690d6cada1"
      },
      "execution_count": 37,
      "outputs": [
        {
          "output_type": "stream",
          "name": "stdout",
          "text": [
            "welcome to lab\n"
          ]
        }
      ]
    }
  ]
}