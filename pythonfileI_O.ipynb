{
  "nbformat": 4,
  "nbformat_minor": 0,
  "metadata": {
    "colab": {
      "name": "pythonfileI/O.ipynb",
      "provenance": [],
      "authorship_tag": "ABX9TyPTv0jPMEnNUY0/3Lb+HhCn",
      "include_colab_link": true
    },
    "kernelspec": {
      "name": "python3",
      "display_name": "Python 3"
    },
    "language_info": {
      "name": "python"
    }
  },
  "cells": [
    {
      "cell_type": "markdown",
      "metadata": {
        "id": "view-in-github",
        "colab_type": "text"
      },
      "source": [
        "<a href=\"https://colab.research.google.com/github/urmilapol/python-course/blob/master/pythonfileI_O.ipynb\" target=\"_parent\"><img src=\"https://colab.research.google.com/assets/colab-badge.svg\" alt=\"Open In Colab\"/></a>"
      ]
    },
    {
      "cell_type": "markdown",
      "source": [
        "# Python File Handling\n",
        "\n",
        "\n",
        "File Operations\n",
        "Files are named locations on our storage device for recording data. Python provides numerous builtin functions to work with these files.\n",
        "\n",
        "There are three steps we need to follow to work with files:\n",
        "\n",
        "Open a file\n",
        "\n",
        "Perform Operation (Read or Write)\n",
        "\n",
        "Close the file"
      ],
      "metadata": {
        "id": "Ywm3NWasJ5UY"
      }
    },
    {
      "cell_type": "markdown",
      "source": [
        "**Opening a File**"
      ],
      "metadata": {
        "id": "PO6bQ-E_KenT"
      }
    },
    {
      "cell_type": "code",
      "source": [
        "f = open('/content/sample_data/univ.txt','r')"
      ],
      "metadata": {
        "id": "aQYDMDeWGaNd"
      },
      "execution_count": 20,
      "outputs": []
    },
    {
      "cell_type": "code",
      "source": [
        "\n",
        "content1 = f.read(7)\n",
        "print(content1)\n",
        "more_content = f.read(12)\n",
        "print(more_content)\n",
        "content = f.read()\n",
        "print(content)\n",
        "\n",
        "f.close()"
      ],
      "metadata": {
        "colab": {
          "base_uri": "https://localhost:8080/"
        },
        "id": "rdnFLaGOHHis",
        "outputId": "1e9ef849-03a3-483c-a7b6-1984512755b3"
      },
      "execution_count": 21,
      "outputs": [
        {
          "output_type": "stream",
          "name": "stdout",
          "text": [
            "Shivaji\n",
            " University,\n",
            " established in 1962, is named after the Great Maratha Warrior and founder of the Maratha empire Chhatrapati Shivaji Maharaj. It was inaugurated on 18th November, 1962 by Dr. Radhakrishnan, the then President of India. One of the major objectives behind foundation of this University was to cater to the regional needs of South Maharashtra. The jurisdiction of the University is spread over three districts viz. Kolhapur, Sangli and Satara with strength of about 3,00,000 students studying in 280 affiliated colleges and recognised institutes. This region of Maharashtra boasts of rich and varied socio-cultural heritage. Under the innovative and socially reformist leadership of Chhatrapati Shahu Maharaj, the princely ruler of Kolhapur, the city had become at the beginning of this century, a focal point of educational opportunities for all classes and communities of South-Western Maharashtra, and northern parts of neighbouring Karnataka. This is also land of Karmaveer Bhaurao Patil, who struggled for taking education to the masses by his innovative 'Earn and Learn' scheme. When the University was founded by the Shivaji University Act of 1962, the objectives set before the University included making opportunities of higher education accessible to rural youth, conducting fundamental and applied research in the field of science and humanities to ensure regional growth and development.\n"
          ]
        }
      ]
    },
    {
      "cell_type": "code",
      "source": [
        "p = open('/content/sample_data/univ1.txt','w')\n",
        "\n",
        "p.write(\"welcome to lab\")\n"
      ],
      "metadata": {
        "id": "jKUEtx38KnMu"
      },
      "execution_count": null,
      "outputs": []
    },
    {
      "cell_type": "code",
      "source": [
        "c = open('/content/sample_data/univ1.txt','r')\n",
        "cont= c.read()\n",
        "print(cont)"
      ],
      "metadata": {
        "colab": {
          "base_uri": "https://localhost:8080/"
        },
        "id": "C8M1sGtdK1I6",
        "outputId": "5e18c6ef-5287-4e82-a549-1a7338df5345"
      },
      "execution_count": 38,
      "outputs": [
        {
          "output_type": "stream",
          "name": "stdout",
          "text": [
            "welcome to lab\n"
          ]
        }
      ]
    },
    {
      "cell_type": "markdown",
      "source": [
        "**Exception Handling with Files**"
      ],
      "metadata": {
        "id": "pnuo3ls5VTQP"
      }
    },
    {
      "cell_type": "code",
      "source": [
        "try:\n",
        "    f = open('message.txt', 'r')\n",
        "\n",
        "    content = f.read(6)\n",
        "    print(content)\n",
        "\n",
        "    more_content = f.read(12)\n",
        "    print(more_content)\n",
        "finally:\n",
        "    f.close()"
      ],
      "metadata": {
        "id": "oi6UmnGDVEd9"
      },
      "execution_count": null,
      "outputs": []
    },
    {
      "cell_type": "code",
      "source": [
        "with open('message.txt', 'r') as f:\n",
        "    content = f.read(6)\n",
        "    print(content)\n",
        "\n",
        "    more_content = f.read(12)\n",
        "    print(more_content)"
      ],
      "metadata": {
        "id": "iVoCPrGSV577"
      },
      "execution_count": null,
      "outputs": []
    },
    {
      "cell_type": "code",
      "source": [
        "with open('python.txt', 'w') as f:\n",
        "    f.write(\"Python is awesome\")\n",
        "    f.write(\"I love Python\")"
      ],
      "metadata": {
        "id": "PGySwbTkWKfP"
      },
      "execution_count": 39,
      "outputs": []
    },
    {
      "cell_type": "markdown",
      "source": [
        "https://github.com/urmilapol/python-course/blob/master/26-file-handling.md"
      ],
      "metadata": {
        "id": "qS0lcTfNWfsb"
      }
    },
    {
      "cell_type": "markdown",
      "source": [
        "**Appending to Files in Python**"
      ],
      "metadata": {
        "id": "BXEjlhOqWrWw"
      }
    },
    {
      "cell_type": "code",
      "source": [
        "with open('python.txt', 'a') as f:\n",
        "    f.write(\"\\nPython is my first programming language.\")"
      ],
      "metadata": {
        "id": "Tyo3jQTrWqNx"
      },
      "execution_count": 40,
      "outputs": []
    },
    {
      "cell_type": "markdown",
      "source": [
        "**Python readlines() and writelines()**\n",
        "The readlines() method returns a list containing each line of the file.\n",
        "\n",
        "Let's open the same python.txt file we have been working on in read mode and use readlines():"
      ],
      "metadata": {
        "id": "VeF-suPTXpwU"
      }
    },
    {
      "cell_type": "code",
      "source": [
        "with open('python.txt', 'r') as f:\n",
        "    lines = f.readlines()\n",
        "print(lines)"
      ],
      "metadata": {
        "colab": {
          "base_uri": "https://localhost:8080/"
        },
        "id": "BtwqJYjbX12w",
        "outputId": "bce7e68a-4e55-4300-c60a-a30a8988c68e"
      },
      "execution_count": 41,
      "outputs": [
        {
          "output_type": "stream",
          "name": "stdout",
          "text": [
            "['Python is awesomeI love Python\\n', 'Python is my first programming language.']\n"
          ]
        }
      ]
    },
    {
      "cell_type": "markdown",
      "source": [
        "Similarly, there is also a writelines() method to write multiple items into a file. It writes the items of a list to the file."
      ],
      "metadata": {
        "id": "Ue0Z8C1RYF-t"
      }
    },
    {
      "cell_type": "code",
      "source": [
        "with open('javascript.txt', 'w') as f:\n",
        "    lines = ['JS is also awesome', '\\nJS is my second programming language.']\n",
        "    f.writelines(lines)"
      ],
      "metadata": {
        "id": "yPWbE5j_YJ_y"
      },
      "execution_count": 42,
      "outputs": []
    },
    {
      "cell_type": "code",
      "source": [
        "! cat javascript.txt\n"
      ],
      "metadata": {
        "colab": {
          "base_uri": "https://localhost:8080/"
        },
        "id": "6Kmd9WSHYRWY",
        "outputId": "efe5f72b-b153-48bd-b8dc-14543194f400"
      },
      "execution_count": 43,
      "outputs": [
        {
          "output_type": "stream",
          "name": "stdout",
          "text": [
            "JS is also awesome\n",
            "JS is my second programming language."
          ]
        }
      ]
    }
  ]
}