{
  "nbformat": 4,
  "nbformat_minor": 0,
  "metadata": {
    "colab": {
      "provenance": [],
      "authorship_tag": "ABX9TyOvtN/gRA4GHwpq6NrrM7ty",
      "include_colab_link": true
    },
    "kernelspec": {
      "name": "python3",
      "display_name": "Python 3"
    },
    "language_info": {
      "name": "python"
    }
  },
  "cells": [
    {
      "cell_type": "markdown",
      "metadata": {
        "id": "view-in-github",
        "colab_type": "text"
      },
      "source": [
        "<a href=\"https://colab.research.google.com/github/urmilapol/python-course/blob/master/ImagToSketchcv2.ipynb\" target=\"_parent\"><img src=\"https://colab.research.google.com/assets/colab-badge.svg\" alt=\"Open In Colab\"/></a>"
      ]
    },
    {
      "cell_type": "code",
      "execution_count": 1,
      "metadata": {
        "colab": {
          "base_uri": "https://localhost:8080/"
        },
        "id": "92W4QpYmXHo6",
        "outputId": "4a6f13ea-62cf-4c6a-9cc5-774d67dd5909"
      },
      "outputs": [
        {
          "output_type": "execute_result",
          "data": {
            "text/plain": [
              "True"
            ]
          },
          "metadata": {},
          "execution_count": 1
        }
      ],
      "source": [
        "import cv2\n",
        "image = cv2.imread('/content/sample_data/urpphotoprofile.png')  # loads an image from the specified file\n",
        "# convert an image from one color space to another\n",
        "grey_img = cv2.cvtColor(image, cv2.COLOR_BGR2GRAY)\n",
        "invert = cv2.bitwise_not(grey_img)  # helps in masking of the image\n",
        "# sharp edges in images are smoothed while minimizing too much blurring\n",
        "blur = cv2.GaussianBlur(invert, (21, 21), 0)\n",
        "invertedblur = cv2.bitwise_not(blur)\n",
        "sketch = cv2.divide(grey_img, invertedblur, scale=256.0)\n",
        "cv2.imwrite(\"sketch.png\", sketch)  # converted image is saved as mentioned name"
      ]
    }
  ]
}